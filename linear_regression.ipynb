{
 "cells": [
  {
   "cell_type": "markdown",
   "metadata": {},
   "source": [
    "# Goals: build Linear Regression with weight decay (L2 regularization) from scratch"
   ]
  },
  {
   "cell_type": "markdown",
   "metadata": {},
   "source": [
    "Use only python and limited numpy function\n",
    "\n",
    "Produce comparable results to sklearn linear regression model"
   ]
  },
  {
   "cell_type": "code",
   "execution_count": 1,
   "metadata": {},
   "outputs": [],
   "source": [
    "import numpy as np\n",
    "import pandas as pd\n",
    "import matplotlib.pyplot as plt\n",
    "import seaborn as sns\n",
    "from sklearn.preprocessing import StandardScaler\n",
    "%matplotlib inline\n",
    "seed=42\n",
    "np.random.seed(seed)"
   ]
  },
  {
   "cell_type": "markdown",
   "metadata": {},
   "source": [
    "# Create regression dataset"
   ]
  },
  {
   "cell_type": "code",
   "execution_count": 2,
   "metadata": {},
   "outputs": [],
   "source": [
    "def get_X_y_cv(X,y,val_ratio=0.2):\n",
    "    n=X.shape[0]\n",
    "    val_size = int(n*val_ratio)\n",
    "    X_train = X[:n-val_size,:]\n",
    "    y_train = y[:n-val_size]\n",
    "    X_val = X[-val_size:,:]\n",
    "    y_val = y[-val_size:]\n",
    "    return X_train,y_train,X_val,y_val\n",
    "\n",
    "def get_linear_dataset_with_bias(n, dim,noise_bound=0.5):\n",
    "    W = np.random.randn(dim+1,1)  \n",
    "    \n",
    "    X = np.random.randn(n,dim)\n",
    "    X0 = np.array([[1]*n]).T # nx1\n",
    "    X = np.concatenate((X0,X),axis=1)\n",
    "    \n",
    "    #add uniform random noise between -0.5 and 0.5\n",
    "    y = X.dot(W) + np.random.rand(n,1) * noise_bound*2 -noise_bound\n",
    "    return X,y,W"
   ]
  },
  {
   "cell_type": "code",
   "execution_count": 8,
   "metadata": {},
   "outputs": [
    {
     "data": {
      "text/plain": [
       "<matplotlib.collections.PathCollection at 0xafca7f0>"
      ]
     },
     "execution_count": 8,
     "metadata": {},
     "output_type": "execute_result"
    },
    {
     "data": {
      "image/png": "[encoded data removed]",
      "text/plain": [
       "<Figure size 432x288 with 1 Axes>"
      ]
     },
     "metadata": {},
     "output_type": "display_data"
    }
   ],
   "source": [
    "# 1 dimension\n",
    "size=500\n",
    "X,y,W = get_linear_dataset_with_bias(size,1)\n",
    "plt.scatter(X[:,1],y)"
   ]
  },
  {
   "cell_type": "markdown",
   "metadata": {},
   "source": [
    "Looks good. We will use higher dimension dataset for benchmarking"
   ]
  },
  {
   "cell_type": "code",
   "execution_count": 13,
   "metadata": {},
   "outputs": [],
   "source": [
    "n=50\n",
    "size=1000\n",
    "X,y,W = get_linear_dataset_with_bias(size,n,1)"
   ]
  },
  {
   "cell_type": "markdown",
   "metadata": {},
   "source": [
    "# Metric"
   ]
  },
  {
   "cell_type": "code",
   "execution_count": 10,
   "metadata": {},
   "outputs": [],
   "source": [
    "def MSE(y,y_pred):\n",
    "    return np.mean((y_pred -y)**2)"
   ]
  },
  {
   "cell_type": "markdown",
   "metadata": {},
   "source": [
    "# Sklearn Linear Regression (benchmark)"
   ]
  },
  {
   "cell_type": "code",
   "execution_count": 14,
   "metadata": {},
   "outputs": [
    {
     "name": "stdout",
     "output_type": "stream",
     "text": [
      "MSE on valid set: \n",
      "0.3090597816208019\n"
     ]
    }
   ],
   "source": [
    "from sklearn.linear_model import LinearRegression\n",
    "\n",
    "X_train,y_train,X_val,y_val = get_X_y_cv(X,y,.2)\n",
    "lr = LinearRegression()\n",
    "lr.fit(X_train,y_train)\n",
    "print('MSE on valid set: ')\n",
    "print(MSE(y_val,lr.predict(X_val)))"
   ]
  },
  {
   "cell_type": "markdown",
   "metadata": {},
   "source": [
    "# Sklearn Linear Regression with L2 regularization"
   ]
  },
  {
   "cell_type": "code",
   "execution_count": 15,
   "metadata": {},
   "outputs": [
    {
     "name": "stdout",
     "output_type": "stream",
     "text": [
      "MSE on valid set: \n",
      "0.3063183872319674\n"
     ]
    }
   ],
   "source": [
    "from sklearn.linear_model import Ridge\n",
    "\n",
    "X_train,y_train,X_val,y_val = get_X_y_cv(X,y,.2)\n",
    "lr = Ridge(3.5,max_iter=50,random_state=42)\n",
    "lr.fit(X_train,y_train)\n",
    "print('MSE on valid set: ')\n",
    "print(MSE(y_val,lr.predict(X_val)))"
   ]
  },
  {
   "cell_type": "markdown",
   "metadata": {},
   "source": [
    "# Linear Regression with Gradient Descent and L2 regularization"
   ]
  },
  {
   "cell_type": "code",
   "execution_count": 16,
   "metadata": {},
   "outputs": [],
   "source": [
    "def MSE_grad(y,y_pred):\n",
    "    return (2/len(y))*(y_pred-y)\n",
    "def initialize_weight(dim):\n",
    "    W0 = np.array([[0]]) # bias, 1x1\n",
    "    W= np.random.rand(dim,1)\n",
    "    return np.concatenate((W0,W))\n",
    "\n",
    "def plot_learning_curve(train_losses,val_losses):    \n",
    "    plt.plot(range(len(train_losses)),train_losses,'o-',color='r',label='Training loss',markersize=1)\n",
    "    plt.plot(range(len(train_losses)),val_losses,'o-',color='g',label='Validation loss',markersize=1)\n",
    "    plt.legend(loc=\"best\")\n",
    "    plt.show()\n",
    "class CustomLinearRegression():\n",
    "    def __init__(self,dim,lr,n_iteration=50,l2=0):\n",
    "        self.dim,self.lr,self.n_iteration,self.l2 = dim,lr,n_iteration,l2\n",
    "        self.W = initialize_weight(self.dim)\n",
    "        self.train_losses=[]\n",
    "        self.val_losses=[]\n",
    "    def fit(self,X,y,val_ratio=.2):\n",
    "        X_train,y_train,X_val,y_val = get_X_y_cv(X,y,val_ratio)\n",
    "        for i in range(self.n_iteration):      \n",
    "            y_pred = X_train.dot(self.W)\n",
    "            # MSE loss for regression\n",
    "            loss = MSE(y_train,y_pred)\n",
    "            \n",
    "            grad = MSE_grad(y_train,y_pred) # n x 1\n",
    "            \n",
    "            grad_w = X_train.T.dot(grad)\n",
    "            \n",
    "            #ignore update of grad_w0 (bias term) since w0 does not contribute to regularization process\n",
    "            grad_w[1:,:]+= 2*(self.l2/X_train.shape[0])*self.W[1:,:] # (2 *lambda / m)* weight\n",
    "            \n",
    "            self.W-= self.lr*grad_w \n",
    "            \n",
    "            #save training loss\n",
    "            self.train_losses.append(loss)\n",
    "            #predict validation set\n",
    "            y_val_pred = self.predict(X_val)\n",
    "            val_loss = MSE(y_val,y_val_pred)\n",
    "            self.val_losses.append(val_loss)\n",
    "            if (i+1) % 20 == 0:\n",
    "                print(f'{i+1}. Training loss: {loss}, Val loss:{val_loss}')\n",
    "        \n",
    "        plot_learning_curve(self.train_losses,self.val_losses)\n",
    "    def get_weight(self):\n",
    "        return self.W\n",
    "    def predict(self,X_test):\n",
    "        if X_test.shape[1] == self.dim:\n",
    "            X0 = np.array([[1]*X_test.shape[0]]).T # nx1\n",
    "            X_test = np.concatenate((X0,X_test),axis=1)\n",
    "        return X_test.dot(self.W)"
   ]
  },
  {
   "cell_type": "markdown",
   "metadata": {},
   "source": [
    "## 1 dimension dataset (sanity check)"
   ]
  },
  {
   "cell_type": "code",
   "execution_count": 17,
   "metadata": {},
   "outputs": [
    {
     "name": "stdout",
     "output_type": "stream",
     "text": [
      "20. Training loss: 1.0500854128117312, Val loss:1.021206381320524\n",
      "40. Training loss: 0.4978421933047994, Val loss:0.4721949901869825\n",
      "60. Training loss: 0.2615399420596584, Val loss:0.24208553545434136\n",
      "80. Training loss: 0.15998701194519518, Val loss:0.1463451521417851\n",
      "100. Training loss: 0.11616715319456411, Val loss:0.10706463930184197\n",
      "120. Training loss: 0.0971884522127266, Val loss:0.09135179150263563\n",
      "140. Training loss: 0.08894058427757695, Val loss:0.08535287452563865\n",
      "160. Training loss: 0.08534506364479075, Val loss:0.08326728538980255\n",
      "180. Training loss: 0.08377326596474308, Val loss:0.082693971796074\n",
      "200. Training loss: 0.08308441919099127, Val loss:0.08265938813493431\n"
     ]
    },
    {
     "data": {
      "image/png": "[encoded data removed]",
      "text/plain": [
       "<Figure size 432x288 with 1 Axes>"
      ]
     },
     "metadata": {},
     "output_type": "display_data"
    }
   ],
   "source": [
    "size=500\n",
    "X1,y1,W = get_linear_dataset_with_bias(size,1)\n",
    "\n",
    "lr = CustomLinearRegression(1,0.01,200)\n",
    "lr.fit(X1,y1)"
   ]
  },
  {
   "cell_type": "code",
   "execution_count": 18,
   "metadata": {},
   "outputs": [
    {
     "data": {
      "image/png": "[encoded data removed]",
      "text/plain": [
       "<Figure size 432x288 with 1 Axes>"
      ]
     },
     "metadata": {},
     "output_type": "display_data"
    }
   ],
   "source": [
    "X_train,y_train,X_val,y_val = get_X_y_cv(X1,y1)\n",
    "\n",
    "y_val_pred = lr.predict(X_val)\n",
    "plt.scatter(X_val[:,1],y_val)\n",
    "plt.plot(X_val[:,1],y_val_pred)\n",
    "plt.show()"
   ]
  },
  {
   "cell_type": "markdown",
   "metadata": {},
   "source": [
    "## n dimension dataset"
   ]
  },
  {
   "cell_type": "code",
   "execution_count": 19,
   "metadata": {},
   "outputs": [
    {
     "name": "stdout",
     "output_type": "stream",
     "text": [
      "X shape: 1000,51\n"
     ]
    }
   ],
   "source": [
    "print(f'X shape: {len(X)},{len(X[0])}')"
   ]
  },
  {
   "cell_type": "markdown",
   "metadata": {},
   "source": [
    "## No regularization (l2 = 0)"
   ]
  },
  {
   "cell_type": "code",
   "execution_count": 20,
   "metadata": {
    "scrolled": false
   },
   "outputs": [
    {
     "name": "stdout",
     "output_type": "stream",
     "text": [
      "20. Training loss: 27.986910892820468, Val loss:29.35093996873659\n",
      "40. Training loss: 13.196876320347787, Val loss:14.543109775024426\n",
      "60. Training loss: 6.566989796574637, Val loss:7.503237678106591\n",
      "80. Training loss: 3.4642507682035797, Val loss:4.029483851423919\n",
      "100. Training loss: 1.9539528329698062, Val loss:2.2626914314916173\n",
      "120. Training loss: 1.1931908542259033, Val loss:1.343018667409267\n",
      "140. Training loss: 0.7988280414292095, Val loss:0.8563698087669865\n",
      "160. Training loss: 0.5895590176965263, Val loss:0.5962244243885941\n",
      "180. Training loss: 0.4764068754180562, Val loss:0.45658389270229877\n",
      "200. Training loss: 0.4143048996844929, Val loss:0.3817983912672281\n",
      "220. Training loss: 0.37981381784804485, Val loss:0.3421471121114207\n",
      "240. Training loss: 0.360474877255172, Val loss:0.32156062717212086\n",
      "260. Training loss: 0.3495482917623079, Val loss:0.31128025853507935\n",
      "280. Training loss: 0.34333606984764287, Val loss:0.30651247474654825\n",
      "300. Training loss: 0.33978593831284415, Val loss:0.30463371608875384\n",
      "320. Training loss: 0.337748397557997, Val loss:0.30421470185391314\n",
      "340. Training loss: 0.336574741267854, Val loss:0.30448506068905246\n",
      "360. Training loss: 0.33589660607325883, Val loss:0.30503760697911675\n",
      "380. Training loss: 0.33550373906818437, Val loss:0.305664331622145\n",
      "400. Training loss: 0.3352756121155529, Val loss:0.30626531571925725\n",
      "420. Training loss: 0.3351428775230302, Val loss:0.3067982225069676\n",
      "440. Training loss: 0.33506550907646615, Val loss:0.3072504354902673\n",
      "460. Training loss: 0.3350203413410543, Val loss:0.3076238439152675\n",
      "480. Training loss: 0.33499393530047006, Val loss:0.3079266781082249\n",
      "500. Training loss: 0.3349784782898628, Val loss:0.30816925428417086\n"
     ]
    },
    {
     "data": {
      "image/png": "[encoded data removed]",
      "text/plain": [
       "<Figure size 432x288 with 1 Axes>"
      ]
     },
     "metadata": {},
     "output_type": "display_data"
    }
   ],
   "source": [
    "lr = CustomLinearRegression(n,0.01,500,l2=0)\n",
    "lr.fit(X,y)"
   ]
  },
  {
   "cell_type": "markdown",
   "metadata": {},
   "source": [
    "## With regularization"
   ]
  },
  {
   "cell_type": "code",
   "execution_count": 21,
   "metadata": {},
   "outputs": [
    {
     "name": "stdout",
     "output_type": "stream",
     "text": [
      "20. Training loss: 31.36220955914424, Val loss:30.614073606568535\n",
      "40. Training loss: 14.551601816582133, Val loss:14.988520239944622\n",
      "60. Training loss: 7.1461252015953685, Val loss:7.6651288509405795\n",
      "80. Training loss: 3.72835321466967, Val loss:4.090938563033751\n",
      "100. Training loss: 2.0826675712484426, Val loss:2.288252208679398\n",
      "120. Training loss: 1.2605198566578475, Val loss:1.3557721636503401\n",
      "140. Training loss: 0.8368461915511948, Val loss:0.8644685882505718\n",
      "160. Training loss: 0.6128036846563597, Val loss:0.6023867659180255\n",
      "180. Training loss: 0.4917354312430781, Val loss:0.4616052407718347\n",
      "200. Training loss: 0.4250846463984503, Val loss:0.38585879106718624\n",
      "220. Training loss: 0.38777789408635127, Val loss:0.3452802266012395\n",
      "240. Training loss: 0.3665697731022808, Val loss:0.3238020982948514\n",
      "260. Training loss: 0.35432932492799657, Val loss:0.31269846096004966\n",
      "280. Training loss: 0.34715511521194337, Val loss:0.3072015827496937\n",
      "300. Training loss: 0.3428822501549628, Val loss:0.30469920099454006\n",
      "320. Training loss: 0.3402938348512113, Val loss:0.30376119828962767\n",
      "340. Training loss: 0.33869737634819935, Val loss:0.30360871167204967\n",
      "360. Training loss: 0.3376939477312659, Val loss:0.3038223157507636\n",
      "380. Training loss: 0.33705082208627224, Val loss:0.30418072067276897\n",
      "400. Training loss: 0.33663040903318625, Val loss:0.3045712985562967\n",
      "420. Training loss: 0.336350191413725, Val loss:0.30494038902767273\n",
      "440. Training loss: 0.3361599109062405, Val loss:0.30526573635435017\n",
      "460. Training loss: 0.33602844453756076, Val loss:0.3055412756748922\n",
      "480. Training loss: 0.3359361763465227, Val loss:0.30576881676504264\n",
      "500. Training loss: 0.3358705136575956, Val loss:0.3059535752087673\n"
     ]
    },
    {
     "data": {
      "image/png": "[encoded data removed]",
      "text/plain": [
       "<Figure size 432x288 with 1 Axes>"
      ]
     },
     "metadata": {},
     "output_type": "display_data"
    }
   ],
   "source": [
    "lr = CustomLinearRegression(n,0.01,500,l2=2.8)\n",
    "lr.fit(X,y)"
   ]
  },
  {
   "cell_type": "markdown",
   "metadata": {},
   "source": [
    "<b>Log loss on validation set (0.3059) is comparable to Sklearn Linear Regression!"
   ]
  }
 ],
 "metadata": {
  "kernelspec": {
   "display_name": "Python 3",
   "language": "python",
   "name": "python3"
  },
  "language_info": {
   "codemirror_mode": {
    "name": "ipython",
    "version": 3
   },
   "file_extension": ".py",
   "mimetype": "text/x-python",
   "name": "python",
   "nbconvert_exporter": "python",
   "pygments_lexer": "ipython3",
   "version": "3.6.4"
  }
 },
 "nbformat": 4,
 "nbformat_minor": 2
}
