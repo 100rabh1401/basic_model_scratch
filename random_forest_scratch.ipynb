{
 "cells": [
  {
   "cell_type": "markdown",
   "metadata": {},
   "source": [
    "# Goals: rebuild Random Forest Regression from scratch\n",
    "\n",
    "Use only python and some basic numpy function (numpy slicing, np.mean, np.nonzero)\n",
    "\n",
    "Produce comparable results to Sklearn Ramdon Forest on some regression dataset"
   ]
  },
  {
   "cell_type": "code",
   "execution_count": 1,
   "metadata": {},
   "outputs": [],
   "source": [
    "%load_ext autoreload\n",
    "%autoreload 2\n"
   ]
  },
  {
   "cell_type": "code",
   "execution_count": 2,
   "metadata": {},
   "outputs": [],
   "source": [
    "%matplotlib inline\n",
    "from sklearn.ensemble import RandomForestRegressor, RandomForestClassifier\n",
    "import pandas as pd\n",
    "import numpy as np\n",
    "from IPython.display import display\n",
    "from sklearn import metrics\n",
    "from sklearn.tree import export_graphviz\n",
    "import IPython,graphviz\n",
    "import re\n",
    "import matplotlib.pyplot as plt\n",
    "np.random.seed(42)"
   ]
  },
  {
   "cell_type": "code",
   "execution_count": 3,
   "metadata": {},
   "outputs": [],
   "source": [
    "# fast.ai fnc\n",
    "def draw_tree(t, df, size=10, ratio=0.6, precision=0):\n",
    "    \"\"\" Draws a representation of a random forest in IPython.\n",
    "    Parameters:\n",
    "    -----------\n",
    "    t: The tree you wish to draw\n",
    "    df: The data used to train the tree. This is used to get the names of the features.\n",
    "    \"\"\"\n",
    "    s=export_graphviz(t, out_file=None, feature_names=df.columns, filled=True,\n",
    "                      special_characters=True, rotate=True, precision=precision)\n",
    "    IPython.display.display(graphviz.Source(re.sub('Tree {',\n",
    "       f'Tree {{ size={size}; ratio={ratio}', s)))"
   ]
  },
  {
   "cell_type": "code",
   "execution_count": 4,
   "metadata": {},
   "outputs": [],
   "source": [
    "class TreeBagging():\n",
    "    def __init__(self, x, y, n_trees, sample_sz, min_leaf=3):\n",
    "        np.random.seed(42)\n",
    "        if hasattr(y,'values'): y = y.values\n",
    "        self.x,self.y,self.sample_sz,self.min_leaf = x,y,sample_sz,min_leaf\n",
    "        self.trees = [self.create_tree() for i in range(n_trees)]\n",
    "\n",
    "    def create_tree(self):\n",
    "        # generate random idxs with size sample_sz\n",
    "        rnd_idxs = np.random.permutation(len(self.y))[:self.sample_sz]\n",
    "        return DecisionTreeRegressor(self.x.iloc[rnd_idxs].values, self.y[rnd_idxs], min_leaf=self.min_leaf)        \n",
    "    def predict(self, x):\n",
    "        if hasattr(x,'values'): x = x.values\n",
    "        return np.mean([t.predict(x) for t in self.trees], axis=0)\n",
    "def var_agg(n,s,s_squared): return (s_squared/n) - (s/n)**2   "
   ]
  },
  {
   "cell_type": "code",
   "execution_count": 5,
   "metadata": {},
   "outputs": [],
   "source": [
    "class DecisionTreeRegressor():\n",
    "    def __init__(self, x, y, min_leaf=3):\n",
    "        self.x,self.y,self.min_leaf = x,y,min_leaf        \n",
    "        self.n,self.c = len(y), x.shape[1]\n",
    "        if self.x.shape[0] != self.n:\n",
    "            raise ValueError('x and y don\\'t have the same size')            \n",
    "        self.val = np.mean(y)\n",
    "        \n",
    "        # Metric (loss score)\n",
    "        self.score = float('inf') # initialize to infinity for a leaf\n",
    "        \n",
    "        self.col_idx= -1 # index of column chosen to split\n",
    "        self.split_value = None # chosen split value from col with col_idx\n",
    "        \n",
    "        self.lhs_tree = None\n",
    "        self.rhs_tree = None\n",
    "        \n",
    "        self.find_varsplit()\n",
    "\n",
    "        \n",
    "    def find_varsplit(self):\n",
    "        # Assuming max_feature = self.c, as we consider all features for splitting\n",
    "        for i in range(self.c): self.find_better_split(i)\n",
    "        if self.is_leaf: return\n",
    "        x= self.split_col\n",
    "        lhs_idx = np.nonzero(x<=self.split_value)[0]\n",
    "        rhs_idx = np.nonzero(x>self.split_value)[0]\n",
    "        \n",
    "        self.lhs_tree = DecisionTreeRegressor(self.x[lhs_idx,:], self.y[lhs_idx])\n",
    "        self.rhs_tree = DecisionTreeRegressor(self.x[rhs_idx,:], self.y[rhs_idx])\n",
    "\n",
    "    def find_better_split(self, col_idx): \n",
    "        x = self.x[:,col_idx]\n",
    "        y = self.y\n",
    "\n",
    "        sort_idx = np.argsort(x)\n",
    "        sort_x,sort_y = x[sort_idx],y[sort_idx]\n",
    "        rhs_cnt,rhs_sum,rhs_sum2 = self.n,sort_y.sum(), (sort_y**2).sum()\n",
    "        lhs_cnt,lhs_sum,lhs_sum2=0,0.0,0.0\n",
    "        for i in range(0,self.n- self.min_leaf):\n",
    "            xi,yi = sort_x[i],sort_y[i]\n",
    "            lhs_cnt += 1; rhs_cnt -= 1\n",
    "            lhs_sum += yi; rhs_sum -= yi\n",
    "            lhs_sum2 += yi**2; rhs_sum2 -= yi**2\n",
    "            if i<self.min_leaf-1 or xi==sort_x[i+1]: # cannot split at a duplicate. ALl dups should be in 1 side\n",
    "                continue\n",
    "            \n",
    "            # the idea is to find the split with LOWEST VARIANCE. Variance (ddof = 0) is equivalent to MSE score against mean\n",
    "            # Also,Standard Deviation is equivalent to RMSE score against mean\n",
    "            lhs_var = var_agg(lhs_cnt, lhs_sum, lhs_sum2)\n",
    "            rhs_var = var_agg(rhs_cnt, rhs_sum, rhs_sum2)\n",
    "            curr_score = (lhs_var*lhs_cnt + rhs_var*rhs_cnt) / self.n #aka MSE score\n",
    "            if curr_score<self.score: \n",
    "                self.col_idx,self.score,self.split_value = col_idx,curr_score,xi\n",
    "    \n",
    "    \n",
    "    @property\n",
    "    def split_col(self): \n",
    "        return self.x[:,self.col_idx]\n",
    "\n",
    "    @property\n",
    "    def is_leaf(self): return self.score == float('inf')\n",
    "    \n",
    "    #prediction\n",
    "    def predict(self,x):\n",
    "        return np.array([self.predict_row(xi) for xi in x])\n",
    "    def predict_row(self,xi):\n",
    "        if self.is_leaf: return self.val\n",
    "        subtree = self.lhs_tree if xi[self.col_idx]<=self.split_value else self.rhs_tree\n",
    "        return subtree.predict_row(xi)\n",
    "    \n",
    "    def __repr__(self):\n",
    "        mse = metrics.mean_squared_error(self.y, [self.val]*self.n)\n",
    "        s = f'Sample size: {self.n}. Pred value: {self.val:0.2f}. MSE: {mse:0.2f}\\n'\n",
    "        if not self.is_leaf:\n",
    "            s += f'Best split from feature {self.col_idx} at value {self.split_value}.  Best split\\'s MSE Score:{self.score:0.2f}'\n",
    "        return s"
   ]
  },
  {
   "cell_type": "markdown",
   "metadata": {},
   "source": [
    "# Generate a fake dataset"
   ]
  },
  {
   "cell_type": "code",
   "execution_count": 6,
   "metadata": {},
   "outputs": [
    {
     "name": "stdout",
     "output_type": "stream",
     "text": [
      "   a  b  y\n",
      "0  7  4  8\n",
      "1  5  7  3\n",
      "2  7  8  5\n",
      "3  4  8  8\n",
      "4  3  6  5\n"
     ]
    }
   ],
   "source": [
    "nrows=20\n",
    "df = pd.DataFrame(np.random.randint(1,10,(nrows,3)),columns=list('aby'))\n",
    "print(df.head())\n",
    "y = df.y.values\n",
    "df.drop('y',axis=1,inplace=True)"
   ]
  },
  {
   "cell_type": "markdown",
   "metadata": {},
   "source": [
    "# Check whether my RF splits are valid against sklearn's Random Forest"
   ]
  },
  {
   "cell_type": "code",
   "execution_count": 7,
   "metadata": {},
   "outputs": [
    {
     "data": {
      "image/svg+xml": [
       "<?xml version=\"1.0\" encoding=\"UTF-8\" standalone=\"no\"?>\r\n",
       "<!DOCTYPE svg PUBLIC \"-//W3C//DTD SVG 1.1//EN\"\r\n",
       " \"http://www.w3.org/Graphics/SVG/1.1/DTD/svg11.dtd\">\r\n",
       "<!-- Generated by graphviz version 2.38.0 (20140413.2041)\r\n",
       " -->\r\n",
       "<!-- Title: Tree Pages: 1 -->\r\n",
       "<svg width=\"482pt\" height=\"292pt\"\r\n",
       " viewBox=\"0.00 0.00 482.00 292.40\" xmlns=\"http://www.w3.org/2000/svg\" xmlns:xlink=\"http://www.w3.org/1999/xlink\">\r\n",
       "<g id=\"graph0\" class=\"graph\" transform=\"scale(1 1) rotate(0) translate(4 288.4)\">\r\n",
       "<title>Tree</title>\r\n",
       "<polygon fill=\"white\" stroke=\"none\" points=\"-4,4 -4,-288.4 478,-288.4 478,4 -4,4\"/>\r\n",
       "<!-- 0 -->\r\n",
       "<g id=\"node1\" class=\"node\"><title>0</title>\r\n",
       "<polygon fill=\"#e58139\" fill-opacity=\"0.505882\" stroke=\"black\" points=\"90.5,-207.621 -0.5,-207.621 -0.5,-139.621 90.5,-139.621 90.5,-207.621\"/>\r\n",
       "<text text-anchor=\"start\" x=\"25\" y=\"-192.421\" font-family=\"Times New Roman,serif\" font-size=\"14.00\">b ≤ 4.5</text>\r\n",
       "<text text-anchor=\"start\" x=\"10\" y=\"-177.421\" font-family=\"Times New Roman,serif\" font-size=\"14.00\">mse = 5.347</text>\r\n",
       "<text text-anchor=\"start\" x=\"7.5\" y=\"-162.421\" font-family=\"Times New Roman,serif\" font-size=\"14.00\">samples = 20</text>\r\n",
       "<text text-anchor=\"start\" x=\"10.5\" y=\"-147.421\" font-family=\"Times New Roman,serif\" font-size=\"14.00\">value = 4.45</text>\r\n",
       "</g>\r\n",
       "<!-- 1 -->\r\n",
       "<g id=\"node2\" class=\"node\"><title>1</title>\r\n",
       "<polygon fill=\"#e58139\" stroke=\"black\" points=\"215,-267.121 129,-267.121 129,-214.121 215,-214.121 215,-267.121\"/>\r\n",
       "<text text-anchor=\"start\" x=\"137\" y=\"-251.921\" font-family=\"Times New Roman,serif\" font-size=\"14.00\">mse = 3.188</text>\r\n",
       "<text text-anchor=\"start\" x=\"138\" y=\"-236.921\" font-family=\"Times New Roman,serif\" font-size=\"14.00\">samples = 4</text>\r\n",
       "<text text-anchor=\"start\" x=\"137.5\" y=\"-221.921\" font-family=\"Times New Roman,serif\" font-size=\"14.00\">value = 6.25</text>\r\n",
       "</g>\r\n",
       "<!-- 0&#45;&gt;1 -->\r\n",
       "<g id=\"edge1\" class=\"edge\"><title>0&#45;&gt;1</title>\r\n",
       "<path fill=\"none\" stroke=\"black\" d=\"M90.7748,-197.62C100.118,-202.628 110.038,-207.945 119.599,-213.07\"/>\r\n",
       "<polygon fill=\"black\" stroke=\"black\" points=\"118.159,-216.269 128.626,-217.909 121.466,-210.1 118.159,-216.269\"/>\r\n",
       "<text text-anchor=\"middle\" x=\"104.694\" y=\"-221.438\" font-family=\"Times New Roman,serif\" font-size=\"14.00\">True</text>\r\n",
       "</g>\r\n",
       "<!-- 2 -->\r\n",
       "<g id=\"node3\" class=\"node\"><title>2</title>\r\n",
       "<polygon fill=\"#e58139\" fill-opacity=\"0.384314\" stroke=\"black\" points=\"217.5,-142.621 126.5,-142.621 126.5,-74.6211 217.5,-74.6211 217.5,-142.621\"/>\r\n",
       "<text text-anchor=\"start\" x=\"152.5\" y=\"-127.421\" font-family=\"Times New Roman,serif\" font-size=\"14.00\">a ≤ 4.5</text>\r\n",
       "<text text-anchor=\"start\" x=\"137\" y=\"-112.421\" font-family=\"Times New Roman,serif\" font-size=\"14.00\">mse = 4.875</text>\r\n",
       "<text text-anchor=\"start\" x=\"134.5\" y=\"-97.4211\" font-family=\"Times New Roman,serif\" font-size=\"14.00\">samples = 16</text>\r\n",
       "<text text-anchor=\"start\" x=\"141\" y=\"-82.4211\" font-family=\"Times New Roman,serif\" font-size=\"14.00\">value = 4.0</text>\r\n",
       "</g>\r\n",
       "<!-- 0&#45;&gt;2 -->\r\n",
       "<g id=\"edge2\" class=\"edge\"><title>0&#45;&gt;2</title>\r\n",
       "<path fill=\"none\" stroke=\"black\" d=\"M90.7748,-150.338C99.3016,-145.904 108.308,-141.221 117.085,-136.657\"/>\r\n",
       "<polygon fill=\"black\" stroke=\"black\" points=\"118.86,-139.679 126.118,-131.96 115.631,-133.468 118.86,-139.679\"/>\r\n",
       "<text text-anchor=\"middle\" x=\"102.278\" y=\"-120.732\" font-family=\"Times New Roman,serif\" font-size=\"14.00\">False</text>\r\n",
       "</g>\r\n",
       "<!-- 3 -->\r\n",
       "<g id=\"node4\" class=\"node\"><title>3</title>\r\n",
       "<polygon fill=\"#e58139\" fill-opacity=\"0.556863\" stroke=\"black\" points=\"346,-209.621 254,-209.621 254,-141.621 346,-141.621 346,-209.621\"/>\r\n",
       "<text text-anchor=\"start\" x=\"280\" y=\"-194.421\" font-family=\"Times New Roman,serif\" font-size=\"14.00\">b ≤ 6.5</text>\r\n",
       "<text text-anchor=\"start\" x=\"265\" y=\"-179.421\" font-family=\"Times New Roman,serif\" font-size=\"14.00\">mse = 4.959</text>\r\n",
       "<text text-anchor=\"start\" x=\"262.5\" y=\"-164.421\" font-family=\"Times New Roman,serif\" font-size=\"14.00\">samples = 11</text>\r\n",
       "<text text-anchor=\"start\" x=\"262\" y=\"-149.421\" font-family=\"Times New Roman,serif\" font-size=\"14.00\">value = 4.636</text>\r\n",
       "</g>\r\n",
       "<!-- 2&#45;&gt;3 -->\r\n",
       "<g id=\"edge3\" class=\"edge\"><title>2&#45;&gt;3</title>\r\n",
       "<path fill=\"none\" stroke=\"black\" d=\"M217.778,-132.431C226.584,-137.114 235.91,-142.073 244.983,-146.898\"/>\r\n",
       "<polygon fill=\"black\" stroke=\"black\" points=\"243.469,-150.057 253.942,-151.662 246.756,-143.876 243.469,-150.057\"/>\r\n",
       "</g>\r\n",
       "<!-- 6 -->\r\n",
       "<g id=\"node7\" class=\"node\"><title>6</title>\r\n",
       "<polygon fill=\"none\" stroke=\"black\" points=\"342,-70.1211 258,-70.1211 258,-17.1211 342,-17.1211 342,-70.1211\"/>\r\n",
       "<text text-anchor=\"start\" x=\"268.5\" y=\"-54.9211\" font-family=\"Times New Roman,serif\" font-size=\"14.00\">mse = 1.84</text>\r\n",
       "<text text-anchor=\"start\" x=\"266\" y=\"-39.9211\" font-family=\"Times New Roman,serif\" font-size=\"14.00\">samples = 5</text>\r\n",
       "<text text-anchor=\"start\" x=\"269\" y=\"-24.9211\" font-family=\"Times New Roman,serif\" font-size=\"14.00\">value = 2.6</text>\r\n",
       "</g>\r\n",
       "<!-- 2&#45;&gt;6 -->\r\n",
       "<g id=\"edge6\" class=\"edge\"><title>2&#45;&gt;6</title>\r\n",
       "<path fill=\"none\" stroke=\"black\" d=\"M217.778,-85.5215C227.742,-80.3809 238.373,-74.8971 248.548,-69.6481\"/>\r\n",
       "<polygon fill=\"black\" stroke=\"black\" points=\"250.449,-72.6053 257.732,-64.9101 247.24,-66.3843 250.449,-72.6053\"/>\r\n",
       "</g>\r\n",
       "<!-- 4 -->\r\n",
       "<g id=\"node5\" class=\"node\"><title>4</title>\r\n",
       "<polygon fill=\"#e58139\" fill-opacity=\"0.247059\" stroke=\"black\" points=\"470,-260.121 386,-260.121 386,-207.121 470,-207.121 470,-260.121\"/>\r\n",
       "<text text-anchor=\"start\" x=\"396.5\" y=\"-244.921\" font-family=\"Times New Roman,serif\" font-size=\"14.00\">mse = 4.25</text>\r\n",
       "<text text-anchor=\"start\" x=\"394\" y=\"-229.921\" font-family=\"Times New Roman,serif\" font-size=\"14.00\">samples = 4</text>\r\n",
       "<text text-anchor=\"start\" x=\"397\" y=\"-214.921\" font-family=\"Times New Roman,serif\" font-size=\"14.00\">value = 3.5</text>\r\n",
       "</g>\r\n",
       "<!-- 3&#45;&gt;4 -->\r\n",
       "<g id=\"edge4\" class=\"edge\"><title>3&#45;&gt;4</title>\r\n",
       "<path fill=\"none\" stroke=\"black\" d=\"M346.133,-196.397C356.081,-200.976 366.676,-205.853 376.81,-210.518\"/>\r\n",
       "<polygon fill=\"black\" stroke=\"black\" points=\"375.408,-213.725 385.955,-214.727 378.335,-207.367 375.408,-213.725\"/>\r\n",
       "</g>\r\n",
       "<!-- 5 -->\r\n",
       "<g id=\"node6\" class=\"node\"><title>5</title>\r\n",
       "<polygon fill=\"#e58139\" fill-opacity=\"0.737255\" stroke=\"black\" points=\"474,-142.121 382,-142.121 382,-89.1211 474,-89.1211 474,-142.121\"/>\r\n",
       "<text text-anchor=\"start\" x=\"393\" y=\"-126.921\" font-family=\"Times New Roman,serif\" font-size=\"14.00\">mse = 4.204</text>\r\n",
       "<text text-anchor=\"start\" x=\"394\" y=\"-111.921\" font-family=\"Times New Roman,serif\" font-size=\"14.00\">samples = 7</text>\r\n",
       "<text text-anchor=\"start\" x=\"390\" y=\"-96.9211\" font-family=\"Times New Roman,serif\" font-size=\"14.00\">value = 5.286</text>\r\n",
       "</g>\r\n",
       "<!-- 3&#45;&gt;5 -->\r\n",
       "<g id=\"edge5\" class=\"edge\"><title>3&#45;&gt;5</title>\r\n",
       "<path fill=\"none\" stroke=\"black\" d=\"M346.133,-154.129C354.728,-150.036 363.807,-145.713 372.653,-141.5\"/>\r\n",
       "<polygon fill=\"black\" stroke=\"black\" points=\"374.235,-144.624 381.759,-137.165 371.225,-138.304 374.235,-144.624\"/>\r\n",
       "</g>\r\n",
       "</g>\r\n",
       "</svg>\r\n"
      ],
      "text/plain": [
       "<graphviz.files.Source at 0x262f128>"
      ]
     },
     "metadata": {},
     "output_type": "display_data"
    }
   ],
   "source": [
    "# sklearn RF split\n",
    "rf = RandomForestRegressor(n_estimators=1,max_depth=3,bootstrap=False,min_samples_leaf=3)\n",
    "rf.fit(df,y)\n",
    "draw_tree(rf.estimators_[0], df, precision=3)"
   ]
  },
  {
   "cell_type": "code",
   "execution_count": 8,
   "metadata": {},
   "outputs": [
    {
     "data": {
      "text/plain": [
       "Sample size: 20. Pred value: 4.45. MSE: 5.35\n",
       "Best split from feature 1 at value 4.  Best split's MSE Score:4.54"
      ]
     },
     "execution_count": 8,
     "metadata": {},
     "output_type": "execute_result"
    }
   ],
   "source": [
    "# My RF split\n",
    "ens = TreeBagging(df, y, 1, nrows)\n",
    "tree = ens.trees[0]\n",
    "tree"
   ]
  },
  {
   "cell_type": "code",
   "execution_count": 9,
   "metadata": {},
   "outputs": [
    {
     "data": {
      "text/plain": [
       "Sample size: 4. Pred value: 6.25. MSE: 3.19"
      ]
     },
     "execution_count": 9,
     "metadata": {},
     "output_type": "execute_result"
    }
   ],
   "source": [
    "tree.lhs_tree"
   ]
  },
  {
   "cell_type": "code",
   "execution_count": 10,
   "metadata": {},
   "outputs": [
    {
     "data": {
      "text/plain": [
       "Sample size: 16. Pred value: 4.00. MSE: 4.88\n",
       "Best split from feature 0 at value 4.  Best split's MSE Score:3.98"
      ]
     },
     "execution_count": 10,
     "metadata": {},
     "output_type": "execute_result"
    }
   ],
   "source": [
    "tree.rhs_tree"
   ]
  },
  {
   "cell_type": "code",
   "execution_count": 11,
   "metadata": {},
   "outputs": [
    {
     "name": "stdout",
     "output_type": "stream",
     "text": [
      "None\n",
      "None\n"
     ]
    }
   ],
   "source": [
    "print(tree.lhs_tree.lhs_tree)\n",
    "print(tree.lhs_tree.rhs_tree)"
   ]
  },
  {
   "cell_type": "code",
   "execution_count": 12,
   "metadata": {},
   "outputs": [
    {
     "name": "stdout",
     "output_type": "stream",
     "text": [
      "Sample size: 11. Pred value: 4.64. MSE: 4.96\n",
      "Best split from feature 1 at value 6.  Best split's MSE Score:4.22\n",
      "Sample size: 5. Pred value: 2.60. MSE: 1.84\n",
      "\n"
     ]
    }
   ],
   "source": [
    "print(tree.rhs_tree.lhs_tree)\n",
    "print(tree.rhs_tree.rhs_tree)"
   ]
  },
  {
   "cell_type": "markdown",
   "metadata": {},
   "source": [
    "Able to produce the exact split like sklearn RF"
   ]
  },
  {
   "cell_type": "markdown",
   "metadata": {},
   "source": [
    "# Benchmarking on fake dataset"
   ]
  },
  {
   "cell_type": "code",
   "execution_count": 13,
   "metadata": {},
   "outputs": [],
   "source": [
    "nrows=1000\n",
    "ncols=10\n",
    "df = pd.DataFrame(np.random.randint(1,10,(nrows,ncols)))\n",
    "y = df[ncols-1].values\n",
    "df.drop(ncols-1,axis=1,inplace=True)"
   ]
  },
  {
   "cell_type": "code",
   "execution_count": 14,
   "metadata": {},
   "outputs": [
    {
     "name": "stdout",
     "output_type": "stream",
     "text": [
      "MSE score: 1.6711164888888888\n",
      "R2 score: 0.7621670960849272\n"
     ]
    }
   ],
   "source": [
    "rf = RandomForestRegressor(n_estimators=5,bootstrap=False,min_samples_leaf=3)\n",
    "rf.fit(df,y)\n",
    "\n",
    "rf_pred = rf.predict(df)\n",
    "print(f'MSE score: {metrics.mean_squared_error(y,rf_pred)}')\n",
    "print(f'R2 score: {metrics.r2_score(y,rf_pred)}')"
   ]
  },
  {
   "cell_type": "code",
   "execution_count": 15,
   "metadata": {},
   "outputs": [
    {
     "name": "stdout",
     "output_type": "stream",
     "text": [
      "MSE score: 1.72175\n",
      "R2 score: 0.7549609467452253\n"
     ]
    }
   ],
   "source": [
    "tb = TreeBagging(df, y, n_trees=5, sample_sz=nrows)\n",
    "tb_pred = tb.predict(df)\n",
    "print(f'MSE score: {metrics.mean_squared_error(y,tb_pred)}')\n",
    "print(f'R2 score: {metrics.r2_score(y,tb_pred)}')"
   ]
  },
  {
   "cell_type": "markdown",
   "metadata": {},
   "source": [
    "# Benchmarking: Boston housing dataset"
   ]
  },
  {
   "cell_type": "markdown",
   "metadata": {},
   "source": [
    "The dataset for this project originates from the UCI Machine Learning Repository. The Boston housing data was collected in 1978 and each of the 506 entries represent aggregated data about 14 features for homes from various suburbs in Boston, Massachusetts. For the purposes of this project, the following preprocessing steps have been made to the dataset:\n",
    "\n",
    "- 16 data points have an 'MEDV' value of 50.0. These data points likely contain missing or censored values and have been removed.\n",
    "- 1 data point has an 'RM' value of 8.78. This data point can be considered an outlier and has been removed.\n",
    "- The features 'RM', 'LSTAT', 'PTRATIO', and 'MEDV' are essential. The remaining non-relevant features have been excluded.\n",
    "- The feature 'MEDV' has been multiplicatively scaled to account for 35 years of market inflation."
   ]
  },
  {
   "cell_type": "code",
   "execution_count": 16,
   "metadata": {},
   "outputs": [
    {
     "name": "stdout",
     "output_type": "stream",
     "text": [
      "(489, 4)\n"
     ]
    },
    {
     "data": {
      "text/html": [
       "<div>\n",
       "<style scoped>\n",
       "    .dataframe tbody tr th:only-of-type {\n",
       "        vertical-align: middle;\n",
       "    }\n",
       "\n",
       "    .dataframe tbody tr th {\n",
       "        vertical-align: top;\n",
       "    }\n",
       "\n",
       "    .dataframe thead th {\n",
       "        text-align: right;\n",
       "    }\n",
       "</style>\n",
       "<table border=\"1\" class=\"dataframe\">\n",
       "  <thead>\n",
       "    <tr style=\"text-align: right;\">\n",
       "      <th></th>\n",
       "      <th>RM</th>\n",
       "      <th>LSTAT</th>\n",
       "      <th>PTRATIO</th>\n",
       "      <th>MEDV</th>\n",
       "    </tr>\n",
       "  </thead>\n",
       "  <tbody>\n",
       "    <tr>\n",
       "      <th>0</th>\n",
       "      <td>6.575</td>\n",
       "      <td>4.98</td>\n",
       "      <td>15.3</td>\n",
       "      <td>504000.0</td>\n",
       "    </tr>\n",
       "    <tr>\n",
       "      <th>1</th>\n",
       "      <td>6.421</td>\n",
       "      <td>9.14</td>\n",
       "      <td>17.8</td>\n",
       "      <td>453600.0</td>\n",
       "    </tr>\n",
       "    <tr>\n",
       "      <th>2</th>\n",
       "      <td>7.185</td>\n",
       "      <td>4.03</td>\n",
       "      <td>17.8</td>\n",
       "      <td>728700.0</td>\n",
       "    </tr>\n",
       "    <tr>\n",
       "      <th>3</th>\n",
       "      <td>6.998</td>\n",
       "      <td>2.94</td>\n",
       "      <td>18.7</td>\n",
       "      <td>701400.0</td>\n",
       "    </tr>\n",
       "    <tr>\n",
       "      <th>4</th>\n",
       "      <td>7.147</td>\n",
       "      <td>5.33</td>\n",
       "      <td>18.7</td>\n",
       "      <td>760200.0</td>\n",
       "    </tr>\n",
       "  </tbody>\n",
       "</table>\n",
       "</div>"
      ],
      "text/plain": [
       "      RM  LSTAT  PTRATIO      MEDV\n",
       "0  6.575   4.98     15.3  504000.0\n",
       "1  6.421   9.14     17.8  453600.0\n",
       "2  7.185   4.03     17.8  728700.0\n",
       "3  6.998   2.94     18.7  701400.0\n",
       "4  7.147   5.33     18.7  760200.0"
      ]
     },
     "execution_count": 16,
     "metadata": {},
     "output_type": "execute_result"
    }
   ],
   "source": [
    "housing = pd.read_csv('data/housing.csv')\n",
    "print(housing.shape)\n",
    "housing.head()"
   ]
  },
  {
   "cell_type": "code",
   "execution_count": 17,
   "metadata": {},
   "outputs": [],
   "source": [
    "y = housing.MEDV.values\n",
    "X = housing.drop('MEDV',axis=1)"
   ]
  },
  {
   "cell_type": "code",
   "execution_count": 18,
   "metadata": {},
   "outputs": [],
   "source": [
    "from sklearn.model_selection import train_test_split\n",
    "def get_train_val(X,y):\n",
    "    X_train,X_val,y_train,y_val =  train_test_split(X, y, test_size=0.2, random_state=42)\n",
    "    return X_train.reset_index(drop=True),X_val.reset_index(drop=True),y_train,y_val"
   ]
  },
  {
   "cell_type": "code",
   "execution_count": 19,
   "metadata": {},
   "outputs": [],
   "source": [
    "X_train,X_val,y_train,y_val = get_train_val(X,y)"
   ]
  },
  {
   "cell_type": "markdown",
   "metadata": {},
   "source": [
    "### sklearn Random Forest"
   ]
  },
  {
   "cell_type": "code",
   "execution_count": 20,
   "metadata": {},
   "outputs": [
    {
     "name": "stdout",
     "output_type": "stream",
     "text": [
      "MSE train score: 3260533106.403395\n",
      "MSE val score: 3375622350.4114494\n",
      "R2 train score: 0.8849351905000116\n",
      "R2 val score: 0.8464062312034625\n"
     ]
    }
   ],
   "source": [
    "# rf = RandomForestRegressor(n_estimators=10,bootstrap=False,min_samples_leaf=10)\n",
    "rf = RandomForestRegressor(n_estimators=10,max_depth=5,bootstrap=False,min_samples_leaf=5)\n",
    "rf.fit(X_train,y_train)\n",
    "\n",
    "rf_train_pred = rf.predict(X_train)\n",
    "rf_val_pred = rf.predict(X_val)\n",
    "\n",
    "print(f'MSE train score: {metrics.mean_squared_error(y_train,rf_train_pred)}')\n",
    "print(f'MSE val score: {metrics.mean_squared_error(y_val,rf_val_pred)}')\n",
    "print(f'R2 train score: {metrics.r2_score(y_train,rf_train_pred)}')\n",
    "print(f'R2 val score: {metrics.r2_score(y_val,rf_val_pred)}')"
   ]
  },
  {
   "cell_type": "code",
   "execution_count": 21,
   "metadata": {},
   "outputs": [
    {
     "data": {
      "image/png": "[encoded data removed]",
      "text/plain": [
       "<Figure size 432x288 with 1 Axes>"
      ]
     },
     "metadata": {},
     "output_type": "display_data"
    }
   ],
   "source": [
    "plt.scatter(range(0,len(y_val)),y_val,alpha=0.5,label='True')\n",
    "plt.scatter(range(0,len(rf_val_pred)),rf_val_pred,c='r',label='Pred')\n",
    "plt.legend()\n",
    "plt.show()"
   ]
  },
  {
   "cell_type": "markdown",
   "metadata": {},
   "source": [
    "## My Random Forest"
   ]
  },
  {
   "cell_type": "code",
   "execution_count": 22,
   "metadata": {},
   "outputs": [],
   "source": [
    "X_train,X_val,y_train,y_val = get_train_val(X,y)"
   ]
  },
  {
   "cell_type": "code",
   "execution_count": 23,
   "metadata": {},
   "outputs": [
    {
     "data": {
      "text/plain": [
       "391"
      ]
     },
     "execution_count": 23,
     "metadata": {},
     "output_type": "execute_result"
    }
   ],
   "source": [
    "X_train.shape[0]"
   ]
  },
  {
   "cell_type": "markdown",
   "metadata": {},
   "source": [
    "One possible thing I can tune here but not in sklearn Random Forest is the size of data subset for each tree (sample_sz)"
   ]
  },
  {
   "cell_type": "code",
   "execution_count": 24,
   "metadata": {},
   "outputs": [
    {
     "name": "stdout",
     "output_type": "stream",
     "text": [
      "Wall time: 374 ms\n"
     ]
    }
   ],
   "source": [
    "%%time\n",
    "tb = TreeBagging(X_train, y_train, n_trees=50, sample_sz=120,min_leaf=5)"
   ]
  },
  {
   "cell_type": "code",
   "execution_count": 25,
   "metadata": {},
   "outputs": [
    {
     "name": "stdout",
     "output_type": "stream",
     "text": [
      "MSE train score: 3372980847.6148586\n",
      "MSE val score: 3414049544.1749997\n",
      "R2 train score: 0.8809668891520539\n",
      "R2 val score: 0.8446577602841077\n"
     ]
    }
   ],
   "source": [
    "tb_train_pred = tb.predict(X_train)\n",
    "tb_val_pred = tb.predict(X_val)\n",
    "print(f'MSE train score: {metrics.mean_squared_error(y_train,tb_train_pred)}')\n",
    "print(f'MSE val score: {metrics.mean_squared_error(y_val,tb_val_pred)}')\n",
    "print(f'R2 train score: {metrics.r2_score(y_train,tb_train_pred)}')\n",
    "print(f'R2 val score: {metrics.r2_score(y_val,tb_val_pred)}')"
   ]
  },
  {
   "cell_type": "code",
   "execution_count": 26,
   "metadata": {},
   "outputs": [
    {
     "data": {
      "image/png": "[encoded data removed]",
      "text/plain": [
       "<Figure size 432x288 with 1 Axes>"
      ]
     },
     "metadata": {},
     "output_type": "display_data"
    }
   ],
   "source": [
    "plt.scatter(range(0,len(y_val)),y_val,alpha=0.5,label='True')\n",
    "plt.scatter(range(0,len(tb_val_pred)),tb_val_pred,c='r',label='Pred')\n",
    "plt.legend()\n",
    "plt.show()"
   ]
  },
  {
   "cell_type": "markdown",
   "metadata": {},
   "source": [
    "Able to draw a comparable result to sklearn Random Forest"
   ]
  },
  {
   "cell_type": "code",
   "execution_count": 34,
   "metadata": {},
   "outputs": [
    {
     "data": {
      "text/plain": [
       "count        98.000000\n",
       "mean      22198.563941\n",
       "std       26558.338376\n",
       "min          26.600000\n",
       "25%        5491.794512\n",
       "50%       12963.300000\n",
       "75%       25482.058209\n",
       "max      143747.800000\n",
       "dtype: float64"
      ]
     },
     "execution_count": 34,
     "metadata": {},
     "output_type": "execute_result"
    }
   ],
   "source": [
    "# Take a look at prediction differences b/t 2 models\n",
    "pd.Series(abs(rf_val_pred-tb_val_pred)).describe()"
   ]
  }
 ],
 "metadata": {
  "kernelspec": {
   "display_name": "Python 3",
   "language": "python",
   "name": "python3"
  },
  "language_info": {
   "codemirror_mode": {
    "name": "ipython",
    "version": 3
   },
   "file_extension": ".py",
   "mimetype": "text/x-python",
   "name": "python",
   "nbconvert_exporter": "python",
   "pygments_lexer": "ipython3",
   "version": "3.6.4"
  }
 },
 "nbformat": 4,
 "nbformat_minor": 2
}
