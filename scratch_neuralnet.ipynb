{
 "cells": [
  {
   "cell_type": "code",
   "execution_count": 1,
   "metadata": {},
   "outputs": [],
   "source": [
    "import numpy as np"
   ]
  },
  {
   "cell_type": "code",
   "execution_count": 13,
   "metadata": {},
   "outputs": [
    {
     "data": {
      "text/plain": [
       "array([[ 1.        , -0.51453638,  0.59386939, -0.02943515, -0.08458525],\n",
       "       [ 1.        , -1.52245291,  0.16962572,  1.24767645, -2.20211305],\n",
       "       [ 1.        , -0.27548847,  1.49694595,  0.85924706, -0.72225162],\n",
       "       [ 1.        ,  1.10039378,  0.33877734,  1.1634021 ,  0.58895874],\n",
       "       [ 1.        ,  1.32775207, -1.25418176, -1.21425987,  0.26031106],\n",
       "       [ 1.        ,  1.09251706, -1.43880621,  1.73234683,  0.65268205],\n",
       "       [ 1.        , -0.80852175,  0.57441675,  0.7555316 , -0.48614466],\n",
       "       [ 1.        ,  0.11533199,  0.49412297, -1.23071418,  0.73255238],\n",
       "       [ 1.        , -0.20649584, -0.33269722, -0.62903001,  0.7741827 ],\n",
       "       [ 1.        ,  0.68323047,  0.73793168,  1.80301773,  0.72139619]])"
      ]
     },
     "execution_count": 13,
     "metadata": {},
     "output_type": "execute_result"
    }
   ],
   "source": [
    "a = np.random.randn(10,4)\n",
    "b= np.ones([10,1])\n",
    "np.concatenate((b,a),axis=1)"
   ]
  },
  {
   "cell_type": "code",
   "execution_count": 11,
   "metadata": {},
   "outputs": [
    {
     "data": {
      "text/plain": [
       "array([[1.],\n",
       "       [1.],\n",
       "       [1.],\n",
       "       [1.],\n",
       "       [1.],\n",
       "       [1.],\n",
       "       [1.],\n",
       "       [1.],\n",
       "       [1.],\n",
       "       [1.]])"
      ]
     },
     "execution_count": 11,
     "metadata": {},
     "output_type": "execute_result"
    }
   ],
   "source": [
    "np.ones((10,1))"
   ]
  }
 ],
 "metadata": {
  "kernelspec": {
   "display_name": "Python 3",
   "language": "python",
   "name": "python3"
  },
  "language_info": {
   "codemirror_mode": {
    "name": "ipython",
    "version": 3
   },
   "file_extension": ".py",
   "mimetype": "text/x-python",
   "name": "python",
   "nbconvert_exporter": "python",
   "pygments_lexer": "ipython3",
   "version": "3.6.6"
  }
 },
 "nbformat": 4,
 "nbformat_minor": 2
}
