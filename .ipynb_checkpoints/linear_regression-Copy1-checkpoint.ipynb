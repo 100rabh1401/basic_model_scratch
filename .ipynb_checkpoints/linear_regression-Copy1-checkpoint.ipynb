{
 "cells": [
  {
   "cell_type": "code",
   "execution_count": 96,
   "metadata": {},
   "outputs": [],
   "source": [
    "import numpy as np\n",
    "import pandas as pd\n",
    "import matplotlib.pyplot as plt\n",
    "import seaborn as sns\n",
    "from sklearn.preprocessing import StandardScaler\n",
    "%matplotlib inline\n",
    "seed=42\n",
    "np.random.seed(seed)"
   ]
  },
  {
   "cell_type": "code",
   "execution_count": 97,
   "metadata": {},
   "outputs": [
    {
     "name": "stdout",
     "output_type": "stream",
     "text": [
      "Boston housing dataset has 489 data points with 4 variables each.\n"
     ]
    }
   ],
   "source": [
    "# # Pretty display for notebooks\n",
    "# %matplotlib inline\n",
    "\n",
    "# # Load the Boston housing dataset\n",
    "# data = pd.read_csv('data/housing.csv')\n",
    "# prices = data['MEDV']\n",
    "# features = data.drop('MEDV', axis = 1)\n",
    "    \n",
    "# print (\"Boston housing dataset has {} data points with {} variables each.\".format(*data.shape))\n",
    "\n",
    "# def get_cv_idxs(n, cv_idx=0, val_pct=0.2, seed=42):\n",
    "#     np.random.seed(seed)\n",
    "#     n_val = int(val_pct*n)\n",
    "#     idx_start = cv_idx*n_val\n",
    "#     idxs = np.random.permutation(n)\n",
    "#     return idxs[idx_start:idx_start+n_val]\n",
    "\n",
    "# cv_idxs = get_cv_idxs(data.shape[0])\n",
    "# val_df = data.iloc[cv_idxs].copy().reset_index(drop=True)\n",
    "# # val_df.to_csv('data/validation.csv',index=False)\n",
    "# train_idxs = [i for i in range(data.shape[0]) if i not in cv_idxs]\n",
    "# train_df = data.iloc[train_idxs].copy().reset_index(drop=True)\n",
    "# # train_df.to_csv('data/train.csv',index=False)\n",
    "\n",
    "# y_val = val_df.MEDV; val_df.drop(['MEDV'],axis=1,inplace=True)\n",
    "# y_train = train_df.MEDV; train_df.drop(['MEDV'],axis=1,inplace=True)\n",
    "\n",
    "\n",
    "# cols = train_df.columns.values\n",
    "# scaler = StandardScaler()\n",
    "# train_df = pd.DataFrame(scaler.fit_transform(train_df),columns=cols)\n",
    "# val_df = pd.DataFrame(scaler.transform(val_df),columns = cols)"
   ]
  },
  {
   "cell_type": "markdown",
   "metadata": {},
   "source": [
    "# Create regression dataset"
   ]
  },
  {
   "cell_type": "code",
   "execution_count": 140,
   "metadata": {
    "collapsed": true
   },
   "outputs": [],
   "source": [
    "def get_X_y_cv(X,y,val_ratio=0.2):\n",
    "    n=X.shape[0]\n",
    "    val_size = int(n*val_ratio)\n",
    "    X_train = X[:n-val_size,:]\n",
    "    y_train = y[:n-val_size]\n",
    "    X_val = X[-val_size:,:]\n",
    "    y_val = y[-val_size:]\n",
    "    return X_train,y_train,X_val,y_val\n",
    "\n",
    "def get_linear_dataset_with_bias(n, dim,noise_bound=0.5):\n",
    "    W = np.random.randn(dim+1,1)  \n",
    "    \n",
    "    X = np.random.randn(n,dim)\n",
    "    X0 = np.array([[1]*n]).T # nx1\n",
    "    X = np.concatenate((X0,X),axis=1)\n",
    "    \n",
    "    #add uniform random noise between -0.5 and 0.5\n",
    "    y = X.dot(W) + np.random.rand(n,1) * noise_bound*2 -noise_bound\n",
    "    return X,y,W"
   ]
  },
  {
   "cell_type": "code",
   "execution_count": 137,
   "metadata": {},
   "outputs": [
    {
     "data": {
      "text/plain": [
       "<matplotlib.collections.PathCollection at 0xceab710>"
      ]
     },
     "execution_count": 137,
     "metadata": {},
     "output_type": "execute_result"
    },
    {
     "data": {
      "image/png": "[encoded data removed]",
      "text/plain": [
       "<matplotlib.figure.Figure at 0xce35518>"
      ]
     },
     "metadata": {},
     "output_type": "display_data"
    }
   ],
   "source": [
    "# 1 dimension\n",
    "size=500\n",
    "X,y,W = get_linear_dataset_with_bias(size,1)\n",
    "plt.scatter(X[:,1],y)"
   ]
  },
  {
   "cell_type": "code",
   "execution_count": 197,
   "metadata": {},
   "outputs": [],
   "source": [
    "# n dimension. We will use high-dimension dataset for benchmarking\n",
    "\n",
    "n=50\n",
    "size=1000\n",
    "X,y,W = get_linear_dataset_with_bias(size,n,1)"
   ]
  },
  {
   "cell_type": "markdown",
   "metadata": {},
   "source": [
    "# Metric"
   ]
  },
  {
   "cell_type": "code",
   "execution_count": 162,
   "metadata": {
    "collapsed": true
   },
   "outputs": [],
   "source": [
    "def MSE(y,y_pred):\n",
    "    return np.mean((y_pred -y)**2)"
   ]
  },
  {
   "cell_type": "markdown",
   "metadata": {},
   "source": [
    "# Sklearn Linear Regression (benchmark)"
   ]
  },
  {
   "cell_type": "code",
   "execution_count": 198,
   "metadata": {},
   "outputs": [
    {
     "name": "stdout",
     "output_type": "stream",
     "text": [
      "MSE on valid set: \n",
      "0.344570051438\n"
     ]
    }
   ],
   "source": [
    "from sklearn.linear_model import LinearRegression\n",
    "\n",
    "X_train,y_train,X_val,y_val = get_X_y_cv(X,y,.2)\n",
    "lr = LinearRegression()\n",
    "lr.fit(X_train,y_train)\n",
    "print('MSE on valid set: ')\n",
    "print(MSE(y_val,lr.predict(X_val)))"
   ]
  },
  {
   "cell_type": "markdown",
   "metadata": {},
   "source": [
    "# Sklearn Linear Regression with L2 regularization"
   ]
  },
  {
   "cell_type": "code",
   "execution_count": 229,
   "metadata": {},
   "outputs": [
    {
     "name": "stdout",
     "output_type": "stream",
     "text": [
      "MSE on valid set: \n",
      "0.343336341672\n"
     ]
    }
   ],
   "source": [
    "from sklearn.linear_model import Ridge\n",
    "\n",
    "X_train,y_train,X_val,y_val = get_X_y_cv(X,y,.2)\n",
    "lr = Ridge(3.5,max_iter=50,random_state=42)\n",
    "lr.fit(X_train,y_train)\n",
    "print('MSE on valid set: ')\n",
    "print(MSE(y_val,lr.predict(X_val)))"
   ]
  },
  {
   "cell_type": "markdown",
   "metadata": {},
   "source": [
    "# Linear Regression with Gradient Descent and L2 regularization"
   ]
  },
  {
   "cell_type": "code",
   "execution_count": 236,
   "metadata": {
    "collapsed": true
   },
   "outputs": [],
   "source": [
    "def MSE_grad(y,y_pred):\n",
    "    return (2/len(y))*(y_pred-y)\n",
    "def initialize_weight(dim):\n",
    "    W0 = np.array([[0]]) # bias, 1x1\n",
    "    W= np.random.rand(dim,1)\n",
    "    return np.concatenate((W0,W))\n",
    "\n",
    "def plot_learning_curve(n_iteration,train_losses,val_losses):    \n",
    "    plt.plot(range(n_iteration),train_losses,'o-',color='r',label='Training loss',markersize=1)\n",
    "    plt.plot(range(n_iteration),val_losses,'o-',color='g',label='Validation loss',markersize=1)\n",
    "    plt.legend(loc=\"best\")\n",
    "    plt.show()\n",
    "class CustomLinearRegression():\n",
    "    def __init__(self,dim,lr,n_iteration=50,l2=0):\n",
    "        self.dim,self.lr,self.n_iteration,self.l2 = dim,lr,n_iteration,l2\n",
    "        self.W = initialize_weight(self.dim)\n",
    "        self.train_losses=[]\n",
    "        self.val_losses=[]\n",
    "    def fit(self,X,y,val_ratio=.2):\n",
    "        X_train,y_train,X_val,y_val = get_X_y_cv(X,y,val_ratio)\n",
    "        for i in range(self.n_iteration):      \n",
    "            y_pred = X_train.dot(self.W)\n",
    "            # MSE loss for regression\n",
    "            loss = MSE(y_train,y_pred)\n",
    "            \n",
    "            grad = MSE_grad(y_train,y_pred) # n x 1\n",
    "            \n",
    "            grad_w = X_train.T.dot(grad)\n",
    "            \n",
    "            #ignore update of grad_w0 (bias term) since w0 does not contribute to regularization process\n",
    "            grad_w[1:,:]+= 2*(self.l2/X_train.shape[0])*self.W[1:,:] # (2 *lambda / m)* weight\n",
    "            \n",
    "            self.W-= self.lr*grad_w \n",
    "            \n",
    "            #save training loss\n",
    "            self.train_losses.append(loss)\n",
    "            #predict validation set\n",
    "            y_val_pred = self.predict(X_val)\n",
    "            val_loss = MSE(y_val,y_val_pred)\n",
    "            self.val_losses.append(val_loss)\n",
    "            if (i+1) % 20 == 0:\n",
    "                print(f'{i+1}. Training loss: {loss}, Val loss:{val_loss}')\n",
    "        \n",
    "        plot_learning_curve(self.n_iteration,self.train_losses,self.val_losses)\n",
    "    def get_weight(self):\n",
    "        return self.W\n",
    "    def predict(self,X_test):\n",
    "        if X_test.shape[1] == self.dim:\n",
    "            X0 = np.array([[1]*X_test.shape[0]]).T # nx1\n",
    "            X_test = np.concatenate((X0,X_test),axis=1)\n",
    "        return X_test.dot(self.W)"
   ]
  },
  {
   "cell_type": "markdown",
   "metadata": {},
   "source": [
    "## 1 dimension dataset (sanity check)"
   ]
  },
  {
   "cell_type": "code",
   "execution_count": 238,
   "metadata": {},
   "outputs": [
    {
     "name": "stdout",
     "output_type": "stream",
     "text": [
      "20. Training loss: 0.9105620239270141, Val loss:0.8535375180608809\n",
      "40. Training loss: 0.46307619313406223, Val loss:0.43249966700914727\n",
      "60. Training loss: 0.2588197849098738, Val loss:0.24053580139733147\n",
      "80. Training loss: 0.16530156552961625, Val loss:0.15294228492042483\n",
      "100. Training loss: 0.12234737335083419, Val loss:0.11298759507902828\n",
      "120. Training loss: 0.10255206805442693, Val loss:0.0948039991311831\n",
      "140. Training loss: 0.09339793612299811, Val loss:0.08657258160218023\n",
      "160. Training loss: 0.08914966147980082, Val loss:0.0828847445102\n",
      "180. Training loss: 0.08717095850899195, Val loss:0.08126340539736818\n",
      "200. Training loss: 0.08624595691185112, Val loss:0.08057462241686589\n"
     ]
    },
    {
     "data": {
      "image/png": "[encoded data removed]",
      "text/plain": [
       "<matplotlib.figure.Figure at 0x114b58d0>"
      ]
     },
     "metadata": {},
     "output_type": "display_data"
    }
   ],
   "source": [
    "size=500\n",
    "X1,y1,W = get_linear_dataset_with_bias(size,1)\n",
    "\n",
    "lr = CustomLinearRegression(1,0.01,200)\n",
    "lr.fit(X1,y1)"
   ]
  },
  {
   "cell_type": "code",
   "execution_count": 239,
   "metadata": {},
   "outputs": [
    {
     "data": {
      "image/png": "[encoded data removed]",
      "text/plain": [
       "<matplotlib.figure.Figure at 0x1150f978>"
      ]
     },
     "metadata": {},
     "output_type": "display_data"
    }
   ],
   "source": [
    "X_train,y_train,X_val,y_val = get_X_y_cv(X1,y1)\n",
    "\n",
    "y_val_pred = lr.predict(X_val)\n",
    "plt.scatter(X_val[:,1],y_val)\n",
    "plt.plot(X_val[:,1],y_val_pred)\n",
    "plt.show()"
   ]
  },
  {
   "cell_type": "markdown",
   "metadata": {},
   "source": [
    "## n dimension dataset"
   ]
  },
  {
   "cell_type": "code",
   "execution_count": 230,
   "metadata": {},
   "outputs": [
    {
     "data": {
      "text/plain": [
       "50"
      ]
     },
     "execution_count": 230,
     "metadata": {},
     "output_type": "execute_result"
    }
   ],
   "source": [
    "n"
   ]
  },
  {
   "cell_type": "code",
   "execution_count": 234,
   "metadata": {},
   "outputs": [
    {
     "name": "stdout",
     "output_type": "stream",
     "text": [
      "X shape: 1000,51\n"
     ]
    }
   ],
   "source": [
    "print(f'X shape: {len(X)},{len(X[0])}')"
   ]
  },
  {
   "cell_type": "markdown",
   "metadata": {},
   "source": [
    "## No regularization (l2 = 0)"
   ]
  },
  {
   "cell_type": "code",
   "execution_count": 241,
   "metadata": {
    "scrolled": false
   },
   "outputs": [
    {
     "name": "stdout",
     "output_type": "stream",
     "text": [
      "20. Training loss: 26.35260470960512, Val loss:26.130477166103883\n",
      "40. Training loss: 12.41193668335285, Val loss:12.724960038691622\n",
      "60. Training loss: 6.155932746724593, Val loss:6.484454573687564\n",
      "80. Training loss: 3.2255397870519955, Val loss:3.4650100144498004\n",
      "100. Training loss: 1.8014198383043336, Val loss:1.9585238537966005\n",
      "120. Training loss: 1.0878050236142702, Val loss:1.1891564520260534\n",
      "140. Training loss: 0.7211667862511492, Val loss:0.7894985883973348\n",
      "160. Training loss: 0.5289308523396039, Val loss:0.5794348714045803\n",
      "180. Training loss: 0.42644866954358845, Val loss:0.4682083685305315\n",
      "200. Training loss: 0.37105586685700154, Val loss:0.40911226206394047\n",
      "220. Training loss: 0.3407635881375497, Val loss:0.3777261063985111\n",
      "240. Training loss: 0.324029444828377, Val loss:0.36113367641644595\n",
      "260. Training loss: 0.314701985341941, Val loss:0.3524483996968159\n",
      "280. Training loss: 0.30946073033534055, Val loss:0.34798001451031085\n",
      "300. Training loss: 0.3064936109319468, Val loss:0.3457465222316975\n",
      "320. Training loss: 0.30480222128659, Val loss:0.3446839524284162\n",
      "340. Training loss: 0.303831738176967, Val loss:0.34422323240309616\n",
      "360. Training loss: 0.3032714312065687, Val loss:0.34406229028071067\n",
      "380. Training loss: 0.3029460168660062, Val loss:0.34404284753873954\n",
      "400. Training loss: 0.3027559475165525, Val loss:0.34408369283968154\n",
      "420. Training loss: 0.30264432491645565, Val loss:0.34414455794452786\n",
      "440. Training loss: 0.3025784286636224, Val loss:0.3442066156194599\n",
      "460. Training loss: 0.30253933168662317, Val loss:0.3442620124851797\n",
      "480. Training loss: 0.30251602370150193, Val loss:0.3443083065744321\n",
      "500. Training loss: 0.30250206485035325, Val loss:0.34434555768988667\n"
     ]
    },
    {
     "data": {
      "image/png": "[encoded data removed]",
      "text/plain": [
       "<matplotlib.figure.Figure at 0x115f5518>"
      ]
     },
     "metadata": {},
     "output_type": "display_data"
    }
   ],
   "source": [
    "lr = CustomLinearRegression(n,0.01,500,l2=0)\n",
    "lr.fit(X,y)"
   ]
  },
  {
   "cell_type": "markdown",
   "metadata": {},
   "source": [
    "## With regularization"
   ]
  },
  {
   "cell_type": "code",
   "execution_count": 258,
   "metadata": {},
   "outputs": [
    {
     "name": "stdout",
     "output_type": "stream",
     "text": [
      "20. Training loss: 30.225472576151613, Val loss:30.687034997914157\n",
      "40. Training loss: 14.031914432886868, Val loss:14.777690199440858\n",
      "60. Training loss: 6.863971749890206, Val loss:7.451511089348048\n",
      "80. Training loss: 3.55392805712086, Val loss:3.943187447206628\n",
      "100. Training loss: 1.9654233549547024, Val loss:2.206677491574478\n",
      "120. Training loss: 1.1767398146155152, Val loss:1.323762091352215\n",
      "140. Training loss: 0.7734229008820569, Val loss:0.8652454337481151\n",
      "160. Training loss: 0.5618195103549847, Val loss:0.6232295002113873\n",
      "180. Training loss: 0.4482754963325185, Val loss:0.4939410786253383\n",
      "200. Training loss: 0.38611018184198903, Val loss:0.42429290959214255\n",
      "220. Training loss: 0.3514395085416301, Val loss:0.3865861539745559\n",
      "240. Training loss: 0.3317627661450659, Val loss:0.3661409301566391\n",
      "260. Training loss: 0.32040561272326107, Val loss:0.35508133569220773\n",
      "280. Training loss: 0.3137404843243424, Val loss:0.3491419839824643\n",
      "300. Training loss: 0.3097633664828824, Val loss:0.34599685424987286\n",
      "320. Training loss: 0.30735009910071176, Val loss:0.3443717130861333\n",
      "340. Training loss: 0.30586075443196814, Val loss:0.34356700278275537\n",
      "360. Training loss: 0.30492578118748204, Val loss:0.34319886607570915\n",
      "380. Training loss: 0.3043286970150486, Val loss:0.3430574763565704\n",
      "400. Training loss: 0.30394085317348774, Val loss:0.3430290686971887\n",
      "420. Training loss: 0.30368467891312223, Val loss:0.3430528409419651\n",
      "440. Training loss: 0.30351270699086624, Val loss:0.34309706701662973\n",
      "460. Training loss: 0.3033954533789535, Val loss:0.3431458490994984\n",
      "480. Training loss: 0.3033143250808271, Val loss:0.34319178234852077\n",
      "500. Training loss: 0.30325741742502543, Val loss:0.34323191217914756\n"
     ]
    },
    {
     "data": {
      "image/png": "[encoded data removed]",
      "text/plain": [
       "<matplotlib.figure.Figure at 0x11484080>"
      ]
     },
     "metadata": {},
     "output_type": "display_data"
    }
   ],
   "source": [
    "lr = CustomLinearRegression(n,0.01,500,l2=2.8)\n",
    "lr.fit(X,y)"
   ]
  },
  {
   "cell_type": "markdown",
   "metadata": {},
   "source": [
    "Results are comparable (in fact, slightly better) than Sklearn Linear Regression)"
   ]
  }
 ],
 "metadata": {
  "kernelspec": {
   "display_name": "Python 3",
   "language": "python",
   "name": "python3"
  },
  "language_info": {
   "codemirror_mode": {
    "name": "ipython",
    "version": 3
   },
   "file_extension": ".py",
   "mimetype": "text/x-python",
   "name": "python",
   "nbconvert_exporter": "python",
   "pygments_lexer": "ipython3",
   "version": "3.6.4"
  }
 },
 "nbformat": 4,
 "nbformat_minor": 2
}
