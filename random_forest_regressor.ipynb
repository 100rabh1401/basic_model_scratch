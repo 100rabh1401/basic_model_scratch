{
 "cells": [
  {
   "cell_type": "markdown",
   "metadata": {},
   "source": [
    "# Goals: rebuild Random Forest Regression from scratch\n",
    "\n",
    "Use only python and some basic numpy function (numpy slicing, np.mean, np.nonzero)\n",
    "\n",
    "Produce comparable results to Sklearn Ramdon Forest on some regression dataset"
   ]
  },
  {
   "cell_type": "code",
   "execution_count": 2,
   "metadata": {},
   "outputs": [],
   "source": [
    "%load_ext autoreload\n",
    "%autoreload 2\n"
   ]
  },
  {
   "cell_type": "code",
   "execution_count": 3,
   "metadata": {},
   "outputs": [],
   "source": [
    "%matplotlib inline\n",
    "from sklearn.ensemble import RandomForestRegressor, RandomForestClassifier\n",
    "import pandas as pd\n",
    "import numpy as np\n",
    "from IPython.display import display\n",
    "from sklearn import metrics\n",
    "from sklearn.tree import export_graphviz\n",
    "import IPython,graphviz\n",
    "import re\n",
    "import matplotlib.pyplot as plt\n",
    "np.random.seed(42)"
   ]
  },
  {
   "cell_type": "code",
   "execution_count": 4,
   "metadata": {},
   "outputs": [],
   "source": [
    "# fast.ai fnc\n",
    "def draw_tree(t, df, size=10, ratio=0.6, precision=0):\n",
    "    \"\"\" Draws a representation of a random forest in IPython.\n",
    "    Parameters:\n",
    "    -----------\n",
    "    t: The tree you wish to draw\n",
    "    df: The data used to train the tree. This is used to get the names of the features.\n",
    "    \"\"\"\n",
    "    s=export_graphviz(t, out_file=None, feature_names=df.columns, filled=True,\n",
    "                      special_characters=True, rotate=True, precision=precision)\n",
    "    IPython.display.display(graphviz.Source(re.sub('Tree {',\n",
    "       f'Tree {{ size={size}; ratio={ratio}', s)))"
   ]
  },
  {
   "cell_type": "code",
   "execution_count": 5,
   "metadata": {},
   "outputs": [],
   "source": [
    "class TreeBagging():\n",
    "    def __init__(self, x, y, n_trees, sample_sz, min_leaf=3):\n",
    "        np.random.seed(42)\n",
    "        if hasattr(y,'values'): y = y.values\n",
    "        self.x,self.y,self.sample_sz,self.min_leaf = x,y,sample_sz,min_leaf\n",
    "        self.trees = [self.create_tree() for i in range(n_trees)]\n",
    "\n",
    "    def create_tree(self):\n",
    "        # generate random idxs with size sample_sz\n",
    "        rnd_idxs = np.random.permutation(len(self.y))[:self.sample_sz]\n",
    "        return DecisionTreeRegressor(self.x.iloc[rnd_idxs].values, self.y[rnd_idxs], min_leaf=self.min_leaf)        \n",
    "    def predict(self, x):\n",
    "        if hasattr(x,'values'): x = x.values\n",
    "        return np.mean([t.predict(x) for t in self.trees], axis=0)\n",
    "def var_agg(n,s,s_squared): return (s_squared/n) - (s/n)**2   "
   ]
  },
  {
   "cell_type": "code",
   "execution_count": 7,
   "metadata": {},
   "outputs": [],
   "source": [
    "class DecisionTreeRegressor():\n",
    "    def __init__(self, x, y, min_leaf=3):\n",
    "        self.x,self.y,self.min_leaf = x,y,min_leaf        \n",
    "        self.n,self.c = len(y), x.shape[1]\n",
    "        if self.x.shape[0] != self.n:\n",
    "            raise ValueError('x and y don\\'t have the same size')            \n",
    "        self.val = np.mean(y)\n",
    "        \n",
    "        # Metric (loss score)\n",
    "        self.score = float('inf') # initialize to infinity for a leaf\n",
    "        \n",
    "        self.col_idx= -1 # index of column chosen to split\n",
    "        self.split_value = None # chosen split value from col with col_idx\n",
    "        \n",
    "        self.lhs_tree = None\n",
    "        self.rhs_tree = None\n",
    "        \n",
    "        self.find_varsplit()\n",
    "\n",
    "        \n",
    "    def find_varsplit(self):\n",
    "        # Assuming max_feature = self.c, as we consider all features for splitting\n",
    "        for i in range(self.c): self.find_better_split(i)\n",
    "        if self.is_leaf: return\n",
    "        x= self.split_col\n",
    "        lhs_idx = np.nonzero(x<=self.split_value)[0]\n",
    "        rhs_idx = np.nonzero(x>self.split_value)[0]\n",
    "        \n",
    "        self.lhs_tree = DecisionTreeRegressor(self.x[lhs_idx,:], self.y[lhs_idx])\n",
    "        self.rhs_tree = DecisionTreeRegressor(self.x[rhs_idx,:], self.y[rhs_idx])\n",
    "\n",
    "    def find_better_split(self, col_idx): \n",
    "        x = self.x[:,col_idx]\n",
    "        y = self.y\n",
    "\n",
    "        sort_idx = np.argsort(x)\n",
    "        sort_x,sort_y = x[sort_idx],y[sort_idx]\n",
    "        rhs_cnt,rhs_sum,rhs_sum2 = self.n,sort_y.sum(), (sort_y**2).sum()\n",
    "        lhs_cnt,lhs_sum,lhs_sum2=0,0.0,0.0\n",
    "        for i in range(0,self.n- self.min_leaf):\n",
    "            xi,yi = sort_x[i],sort_y[i]\n",
    "            lhs_cnt += 1; rhs_cnt -= 1\n",
    "            lhs_sum += yi; rhs_sum -= yi\n",
    "            lhs_sum2 += yi**2; rhs_sum2 -= yi**2\n",
    "            if i<self.min_leaf-1 or xi==sort_x[i+1]: # cannot split at a duplicate. ALl dups should be in 1 side\n",
    "                continue\n",
    "            \n",
    "            # the idea is to find the split with LOWEST VARIANCE. Variance (ddof = 0) is equivalent to MSE score against mean\n",
    "            # That means standard Deviation is equivalent to RMSE score against mean\n",
    "            lhs_var = var_agg(lhs_cnt, lhs_sum, lhs_sum2)\n",
    "            rhs_var = var_agg(rhs_cnt, rhs_sum, rhs_sum2)\n",
    "            curr_score = (lhs_var*lhs_cnt + rhs_var*rhs_cnt) # equivalent to MSE score in comparison\n",
    "            if curr_score<self.score: \n",
    "                self.col_idx,self.score,self.split_value = col_idx,curr_score,xi\n",
    "    \n",
    "    \n",
    "    @property\n",
    "    def split_col(self): \n",
    "        return self.x[:,self.col_idx]\n",
    "\n",
    "    @property\n",
    "    def is_leaf(self): return self.score == float('inf')\n",
    "    \n",
    "    #prediction\n",
    "    def predict(self,x):\n",
    "        return np.array([self.predict_row(xi) for xi in x])\n",
    "    def predict_row(self,xi):\n",
    "        if self.is_leaf: return self.val\n",
    "        subtree = self.lhs_tree if xi[self.col_idx]<=self.split_value else self.rhs_tree\n",
    "        return subtree.predict_row(xi)\n",
    "    \n",
    "    def __repr__(self):\n",
    "        mse = metrics.mean_squared_error(self.y, [self.val]*self.n)\n",
    "        s = f'Sample size: {self.n}. Pred value: {self.val:0.2f}. MSE: {mse:0.2f}\\n'\n",
    "        if not self.is_leaf:\n",
    "            s += f'Best split from feature {self.col_idx} at value {self.split_value}.  Best split\\'s MSE Score:{self.score:0.2f}'\n",
    "        return s"
   ]
  },
  {
   "cell_type": "markdown",
   "metadata": {},
   "source": [
    "# Generate a fake dataset"
   ]
  },
  {
   "cell_type": "code",
   "execution_count": 8,
   "metadata": {},
   "outputs": [
    {
     "name": "stdout",
     "output_type": "stream",
     "text": [
      "   a  b  y\n",
      "0  7  4  8\n",
      "1  5  7  3\n",
      "2  7  8  5\n",
      "3  4  8  8\n",
      "4  3  6  5\n"
     ]
    }
   ],
   "source": [
    "nrows=20\n",
    "df = pd.DataFrame(np.random.randint(1,10,(nrows,3)),columns=list('aby'))\n",
    "print(df.head())\n",
    "y = df.y.values\n",
    "df.drop('y',axis=1,inplace=True)"
   ]
  },
  {
   "cell_type": "markdown",
   "metadata": {},
   "source": [
    "# Check whether my RF splits are valid against sklearn's Random Forest"
   ]
  },
  {
   "cell_type": "code",
   "execution_count": 9,
   "metadata": {},
   "outputs": [
    {
     "data": {
      "text/plain": [
       "RandomForestRegressor(bootstrap=False, criterion='mse', max_depth=3,\n",
       "           max_features='auto', max_leaf_nodes=None,\n",
       "           min_impurity_decrease=0.0, min_impurity_split=None,\n",
       "           min_samples_leaf=3, min_samples_split=2,\n",
       "           min_weight_fraction_leaf=0.0, n_estimators=1, n_jobs=1,\n",
       "           oob_score=False, random_state=None, verbose=0, warm_start=False)"
      ]
     },
     "execution_count": 9,
     "metadata": {},
     "output_type": "execute_result"
    },
    {
     "data": {
      "image/svg+xml": [
       "<?xml version=\"1.0\" encoding=\"UTF-8\" standalone=\"no\"?>\n",
       "<!DOCTYPE svg PUBLIC \"-//W3C//DTD SVG 1.1//EN\"\n",
       " \"http://www.w3.org/Graphics/SVG/1.1/DTD/svg11.dtd\">\n",
       "<!-- Generated by graphviz version 2.40.1 (20161225.0304)\n",
       " -->\n",
       "<!-- Title: Tree Pages: 1 -->\n",
       "<svg width=\"480pt\" height=\"291pt\"\n",
       " viewBox=\"0.00 0.00 480.00 291.20\" xmlns=\"http://www.w3.org/2000/svg\" xmlns:xlink=\"http://www.w3.org/1999/xlink\">\n",
       "<g id=\"graph0\" class=\"graph\" transform=\"scale(1 1) rotate(0) translate(4 287.2)\">\n",
       "<title>Tree</title>\n",
       "<polygon fill=\"#ffffff\" stroke=\"transparent\" points=\"-4,4 -4,-287.2 476,-287.2 476,4 -4,4\"/>\n",
       "<!-- 0 -->\n",
       "<g id=\"node1\" class=\"node\">\n",
       "<title>0</title>\n",
       "<polygon fill=\"#e58139\" fill-opacity=\"0.505882\" stroke=\"#000000\" points=\"90,-207.0316 0,-207.0316 0,-139.0316 90,-139.0316 90,-207.0316\"/>\n",
       "<text text-anchor=\"start\" x=\"25\" y=\"-191.8316\" font-family=\"Times,serif\" font-size=\"14.00\" fill=\"#000000\">b ≤ 4.5</text>\n",
       "<text text-anchor=\"start\" x=\"10\" y=\"-176.8316\" font-family=\"Times,serif\" font-size=\"14.00\" fill=\"#000000\">mse = 5.347</text>\n",
       "<text text-anchor=\"start\" x=\"8\" y=\"-161.8316\" font-family=\"Times,serif\" font-size=\"14.00\" fill=\"#000000\">samples = 20</text>\n",
       "<text text-anchor=\"start\" x=\"10\" y=\"-146.8316\" font-family=\"Times,serif\" font-size=\"14.00\" fill=\"#000000\">value = 4.45</text>\n",
       "</g>\n",
       "<!-- 1 -->\n",
       "<g id=\"node2\" class=\"node\">\n",
       "<title>1</title>\n",
       "<polygon fill=\"#e58139\" stroke=\"#000000\" points=\"214,-265.5316 128,-265.5316 128,-212.5316 214,-212.5316 214,-265.5316\"/>\n",
       "<text text-anchor=\"start\" x=\"136\" y=\"-250.3316\" font-family=\"Times,serif\" font-size=\"14.00\" fill=\"#000000\">mse = 3.188</text>\n",
       "<text text-anchor=\"start\" x=\"137.5\" y=\"-235.3316\" font-family=\"Times,serif\" font-size=\"14.00\" fill=\"#000000\">samples = 4</text>\n",
       "<text text-anchor=\"start\" x=\"136\" y=\"-220.3316\" font-family=\"Times,serif\" font-size=\"14.00\" fill=\"#000000\">value = 6.25</text>\n",
       "</g>\n",
       "<!-- 0&#45;&gt;1 -->\n",
       "<g id=\"edge1\" class=\"edge\">\n",
       "<title>0&#45;&gt;1</title>\n",
       "<path fill=\"none\" stroke=\"#000000\" d=\"M90.133,-196.6727C99.4441,-201.5499 109.3229,-206.7245 118.8593,-211.7198\"/>\n",
       "<polygon fill=\"#000000\" stroke=\"#000000\" points=\"117.3855,-214.8989 127.8679,-216.4386 120.6336,-208.698 117.3855,-214.8989\"/>\n",
       "<text text-anchor=\"middle\" x=\"104.0059\" y=\"-220.1955\" font-family=\"Times,serif\" font-size=\"14.00\" fill=\"#000000\">True</text>\n",
       "</g>\n",
       "<!-- 2 -->\n",
       "<g id=\"node3\" class=\"node\">\n",
       "<title>2</title>\n",
       "<polygon fill=\"#e58139\" fill-opacity=\"0.384314\" stroke=\"#000000\" points=\"216,-142.0316 126,-142.0316 126,-74.0316 216,-74.0316 216,-142.0316\"/>\n",
       "<text text-anchor=\"start\" x=\"151\" y=\"-126.8316\" font-family=\"Times,serif\" font-size=\"14.00\" fill=\"#000000\">a ≤ 4.5</text>\n",
       "<text text-anchor=\"start\" x=\"136\" y=\"-111.8316\" font-family=\"Times,serif\" font-size=\"14.00\" fill=\"#000000\">mse = 4.875</text>\n",
       "<text text-anchor=\"start\" x=\"134\" y=\"-96.8316\" font-family=\"Times,serif\" font-size=\"14.00\" fill=\"#000000\">samples = 16</text>\n",
       "<text text-anchor=\"start\" x=\"139.5\" y=\"-81.8316\" font-family=\"Times,serif\" font-size=\"14.00\" fill=\"#000000\">value = 4.0</text>\n",
       "</g>\n",
       "<!-- 0&#45;&gt;2 -->\n",
       "<g id=\"edge2\" class=\"edge\">\n",
       "<title>0&#45;&gt;2</title>\n",
       "<path fill=\"none\" stroke=\"#000000\" d=\"M90.133,-149.7487C98.728,-145.3147 107.8068,-140.6313 116.6535,-136.0675\"/>\n",
       "<polygon fill=\"#000000\" stroke=\"#000000\" points=\"118.4761,-139.0656 125.7586,-131.3704 115.2668,-132.8446 118.4761,-139.0656\"/>\n",
       "<text text-anchor=\"middle\" x=\"101.9437\" y=\"-120.0646\" font-family=\"Times,serif\" font-size=\"14.00\" fill=\"#000000\">False</text>\n",
       "</g>\n",
       "<!-- 3 -->\n",
       "<g id=\"node4\" class=\"node\">\n",
       "<title>3</title>\n",
       "<polygon fill=\"#e58139\" fill-opacity=\"0.556863\" stroke=\"#000000\" points=\"344,-209.0316 252,-209.0316 252,-141.0316 344,-141.0316 344,-209.0316\"/>\n",
       "<text text-anchor=\"start\" x=\"278\" y=\"-193.8316\" font-family=\"Times,serif\" font-size=\"14.00\" fill=\"#000000\">b ≤ 6.5</text>\n",
       "<text text-anchor=\"start\" x=\"263\" y=\"-178.8316\" font-family=\"Times,serif\" font-size=\"14.00\" fill=\"#000000\">mse = 4.959</text>\n",
       "<text text-anchor=\"start\" x=\"261\" y=\"-163.8316\" font-family=\"Times,serif\" font-size=\"14.00\" fill=\"#000000\">samples = 11</text>\n",
       "<text text-anchor=\"start\" x=\"260\" y=\"-148.8316\" font-family=\"Times,serif\" font-size=\"14.00\" fill=\"#000000\">value = 4.636</text>\n",
       "</g>\n",
       "<!-- 2&#45;&gt;3 -->\n",
       "<g id=\"edge3\" class=\"edge\">\n",
       "<title>2&#45;&gt;3</title>\n",
       "<path fill=\"none\" stroke=\"#000000\" d=\"M216.133,-131.8419C224.7052,-136.3643 233.7661,-141.1444 242.6133,-145.8118\"/>\n",
       "<polygon fill=\"#000000\" stroke=\"#000000\" points=\"241.2484,-149.0489 251.7262,-150.6194 244.5147,-142.8577 241.2484,-149.0489\"/>\n",
       "</g>\n",
       "<!-- 6 -->\n",
       "<g id=\"node7\" class=\"node\">\n",
       "<title>6</title>\n",
       "<polygon fill=\"transparent\" stroke=\"#000000\" points=\"339.5,-70.5316 256.5,-70.5316 256.5,-17.5316 339.5,-17.5316 339.5,-70.5316\"/>\n",
       "<text text-anchor=\"start\" x=\"266.5\" y=\"-55.3316\" font-family=\"Times,serif\" font-size=\"14.00\" fill=\"#000000\">mse = 1.84</text>\n",
       "<text text-anchor=\"start\" x=\"264.5\" y=\"-40.3316\" font-family=\"Times,serif\" font-size=\"14.00\" fill=\"#000000\">samples = 5</text>\n",
       "<text text-anchor=\"start\" x=\"266.5\" y=\"-25.3316\" font-family=\"Times,serif\" font-size=\"14.00\" fill=\"#000000\">value = 2.6</text>\n",
       "</g>\n",
       "<!-- 2&#45;&gt;6 -->\n",
       "<g id=\"edge6\" class=\"edge\">\n",
       "<title>2&#45;&gt;6</title>\n",
       "<path fill=\"none\" stroke=\"#000000\" d=\"M216.133,-85.2874C226.2793,-80.1743 237.1101,-74.7162 247.461,-69.5\"/>\n",
       "<polygon fill=\"#000000\" stroke=\"#000000\" points=\"249.0494,-72.619 256.4045,-64.9931 245.8992,-66.3678 249.0494,-72.619\"/>\n",
       "</g>\n",
       "<!-- 4 -->\n",
       "<g id=\"node5\" class=\"node\">\n",
       "<title>4</title>\n",
       "<polygon fill=\"#e58139\" fill-opacity=\"0.247059\" stroke=\"#000000\" points=\"467.5,-259.5316 384.5,-259.5316 384.5,-206.5316 467.5,-206.5316 467.5,-259.5316\"/>\n",
       "<text text-anchor=\"start\" x=\"394.5\" y=\"-244.3316\" font-family=\"Times,serif\" font-size=\"14.00\" fill=\"#000000\">mse = 4.25</text>\n",
       "<text text-anchor=\"start\" x=\"392.5\" y=\"-229.3316\" font-family=\"Times,serif\" font-size=\"14.00\" fill=\"#000000\">samples = 4</text>\n",
       "<text text-anchor=\"start\" x=\"394.5\" y=\"-214.3316\" font-family=\"Times,serif\" font-size=\"14.00\" fill=\"#000000\">value = 3.5</text>\n",
       "</g>\n",
       "<!-- 3&#45;&gt;4 -->\n",
       "<g id=\"edge4\" class=\"edge\">\n",
       "<title>3&#45;&gt;4</title>\n",
       "<path fill=\"none\" stroke=\"#000000\" d=\"M344.2109,-195.9709C354.1893,-200.4923 364.7943,-205.2977 374.9458,-209.8977\"/>\n",
       "<polygon fill=\"#000000\" stroke=\"#000000\" points=\"373.557,-213.1109 384.1102,-214.0502 376.4462,-206.7349 373.557,-213.1109\"/>\n",
       "</g>\n",
       "<!-- 5 -->\n",
       "<g id=\"node6\" class=\"node\">\n",
       "<title>5</title>\n",
       "<polygon fill=\"#e58139\" fill-opacity=\"0.737255\" stroke=\"#000000\" points=\"472,-141.5316 380,-141.5316 380,-88.5316 472,-88.5316 472,-141.5316\"/>\n",
       "<text text-anchor=\"start\" x=\"391\" y=\"-126.3316\" font-family=\"Times,serif\" font-size=\"14.00\" fill=\"#000000\">mse = 4.204</text>\n",
       "<text text-anchor=\"start\" x=\"392.5\" y=\"-111.3316\" font-family=\"Times,serif\" font-size=\"14.00\" fill=\"#000000\">samples = 7</text>\n",
       "<text text-anchor=\"start\" x=\"388\" y=\"-96.3316\" font-family=\"Times,serif\" font-size=\"14.00\" fill=\"#000000\">value = 5.286</text>\n",
       "</g>\n",
       "<!-- 3&#45;&gt;5 -->\n",
       "<g id=\"edge5\" class=\"edge\">\n",
       "<title>3&#45;&gt;5</title>\n",
       "<path fill=\"none\" stroke=\"#000000\" d=\"M344.2109,-153.3702C352.8209,-149.3343 361.8974,-145.0797 370.7465,-140.9316\"/>\n",
       "<polygon fill=\"#000000\" stroke=\"#000000\" points=\"372.2878,-144.0747 379.8569,-136.6612 369.3168,-137.7364 372.2878,-144.0747\"/>\n",
       "</g>\n",
       "</g>\n",
       "</svg>\n"
      ],
      "text/plain": [
       "<graphviz.files.Source at 0x7fc1dec25710>"
      ]
     },
     "metadata": {},
     "output_type": "display_data"
    }
   ],
   "source": [
    "# sklearn RF split\n",
    "rf = RandomForestRegressor(n_estimators=1,max_depth=3,bootstrap=False,min_samples_leaf=3)\n",
    "rf.fit(df,y)\n",
    "draw_tree(rf.estimators_[0], df, precision=3)"
   ]
  },
  {
   "cell_type": "code",
   "execution_count": 10,
   "metadata": {},
   "outputs": [
    {
     "data": {
      "text/plain": [
       "Sample size: 20. Pred value: 4.45. MSE: 5.35\n",
       "Best split from feature 1 at value 4.  Best split's MSE Score:90.75"
      ]
     },
     "execution_count": 10,
     "metadata": {},
     "output_type": "execute_result"
    }
   ],
   "source": [
    "# My RF split\n",
    "ens = TreeBagging(df, y, 1, nrows)\n",
    "tree = ens.trees[0]\n",
    "tree"
   ]
  },
  {
   "cell_type": "code",
   "execution_count": 11,
   "metadata": {},
   "outputs": [
    {
     "data": {
      "text/plain": [
       "Sample size: 4. Pred value: 6.25. MSE: 3.19"
      ]
     },
     "execution_count": 11,
     "metadata": {},
     "output_type": "execute_result"
    }
   ],
   "source": [
    "tree.lhs_tree"
   ]
  },
  {
   "cell_type": "code",
   "execution_count": 12,
   "metadata": {},
   "outputs": [
    {
     "data": {
      "text/plain": [
       "Sample size: 16. Pred value: 4.00. MSE: 4.88\n",
       "Best split from feature 0 at value 4.  Best split's MSE Score:63.75"
      ]
     },
     "execution_count": 12,
     "metadata": {},
     "output_type": "execute_result"
    }
   ],
   "source": [
    "tree.rhs_tree"
   ]
  },
  {
   "cell_type": "code",
   "execution_count": 13,
   "metadata": {},
   "outputs": [
    {
     "name": "stdout",
     "output_type": "stream",
     "text": [
      "None\n",
      "None\n"
     ]
    }
   ],
   "source": [
    "print(tree.lhs_tree.lhs_tree)\n",
    "print(tree.lhs_tree.rhs_tree)"
   ]
  },
  {
   "cell_type": "code",
   "execution_count": 14,
   "metadata": {},
   "outputs": [
    {
     "name": "stdout",
     "output_type": "stream",
     "text": [
      "Sample size: 11. Pred value: 4.64. MSE: 4.96\n",
      "Best split from feature 1 at value 6.  Best split's MSE Score:46.43\n",
      "Sample size: 5. Pred value: 2.60. MSE: 1.84\n",
      "\n"
     ]
    }
   ],
   "source": [
    "print(tree.rhs_tree.lhs_tree)\n",
    "print(tree.rhs_tree.rhs_tree)"
   ]
  },
  {
   "cell_type": "markdown",
   "metadata": {},
   "source": [
    "'Scratch' RF regressor is able to produce the exact split like sklearn RF"
   ]
  },
  {
   "cell_type": "markdown",
   "metadata": {},
   "source": [
    "# Benchmarking on fake dataset"
   ]
  },
  {
   "cell_type": "code",
   "execution_count": 15,
   "metadata": {},
   "outputs": [],
   "source": [
    "nrows=1000\n",
    "ncols=10\n",
    "df = pd.DataFrame(np.random.randint(1,10,(nrows,ncols)))\n",
    "y = df[ncols-1].values\n",
    "df.drop(ncols-1,axis=1,inplace=True)"
   ]
  },
  {
   "cell_type": "code",
   "execution_count": 16,
   "metadata": {},
   "outputs": [
    {
     "data": {
      "text/plain": [
       "RandomForestRegressor(bootstrap=False, criterion='mse', max_depth=None,\n",
       "           max_features='auto', max_leaf_nodes=None,\n",
       "           min_impurity_decrease=0.0, min_impurity_split=None,\n",
       "           min_samples_leaf=3, min_samples_split=2,\n",
       "           min_weight_fraction_leaf=0.0, n_estimators=5, n_jobs=1,\n",
       "           oob_score=False, random_state=None, verbose=0, warm_start=False)"
      ]
     },
     "execution_count": 16,
     "metadata": {},
     "output_type": "execute_result"
    },
    {
     "name": "stdout",
     "output_type": "stream",
     "text": [
      "MSE score: 1.6711164888888888\n",
      "R2 score: 0.7621670960849272\n"
     ]
    }
   ],
   "source": [
    "rf = RandomForestRegressor(n_estimators=5,bootstrap=False,min_samples_leaf=3)\n",
    "rf.fit(df,y)\n",
    "\n",
    "rf_pred = rf.predict(df)\n",
    "print(f'MSE score: {metrics.mean_squared_error(y,rf_pred)}')\n",
    "print(f'R2 score: {metrics.r2_score(y,rf_pred)}')"
   ]
  },
  {
   "cell_type": "code",
   "execution_count": 17,
   "metadata": {},
   "outputs": [
    {
     "name": "stdout",
     "output_type": "stream",
     "text": [
      "MSE score: 1.72175\n",
      "R2 score: 0.7549609467452253\n"
     ]
    }
   ],
   "source": [
    "tb = TreeBagging(df, y, n_trees=5, sample_sz=nrows)\n",
    "tb_pred = tb.predict(df)\n",
    "print(f'MSE score: {metrics.mean_squared_error(y,tb_pred)}')\n",
    "print(f'R2 score: {metrics.r2_score(y,tb_pred)}')"
   ]
  },
  {
   "cell_type": "markdown",
   "metadata": {},
   "source": [
    "# Benchmarking: Boston housing dataset"
   ]
  },
  {
   "cell_type": "markdown",
   "metadata": {},
   "source": [
    "The dataset for this project originates from the UCI Machine Learning Repository. The Boston housing data was collected in 1978 and each of the 506 entries represent aggregated data about 14 features for homes from various suburbs in Boston, Massachusetts. For the purposes of this project, the following preprocessing steps have been made to the dataset:\n",
    "\n",
    "- 16 data points have an 'MEDV' value of 50.0. These data points likely contain missing or censored values and have been removed.\n",
    "- 1 data point has an 'RM' value of 8.78. This data point can be considered an outlier and has been removed.\n",
    "- The features 'RM', 'LSTAT', 'PTRATIO', and 'MEDV' are essential. The remaining non-relevant features have been excluded.\n",
    "- The feature 'MEDV' has been multiplicatively scaled to account for 35 years of market inflation."
   ]
  },
  {
   "cell_type": "code",
   "execution_count": 18,
   "metadata": {},
   "outputs": [
    {
     "name": "stdout",
     "output_type": "stream",
     "text": [
      "(489, 4)\n"
     ]
    },
    {
     "data": {
      "text/html": [
       "<div>\n",
       "<style scoped>\n",
       "    .dataframe tbody tr th:only-of-type {\n",
       "        vertical-align: middle;\n",
       "    }\n",
       "\n",
       "    .dataframe tbody tr th {\n",
       "        vertical-align: top;\n",
       "    }\n",
       "\n",
       "    .dataframe thead th {\n",
       "        text-align: right;\n",
       "    }\n",
       "</style>\n",
       "<table border=\"1\" class=\"dataframe\">\n",
       "  <thead>\n",
       "    <tr style=\"text-align: right;\">\n",
       "      <th></th>\n",
       "      <th>RM</th>\n",
       "      <th>LSTAT</th>\n",
       "      <th>PTRATIO</th>\n",
       "      <th>MEDV</th>\n",
       "    </tr>\n",
       "  </thead>\n",
       "  <tbody>\n",
       "    <tr>\n",
       "      <th>0</th>\n",
       "      <td>6.575</td>\n",
       "      <td>4.98</td>\n",
       "      <td>15.3</td>\n",
       "      <td>504000.0</td>\n",
       "    </tr>\n",
       "    <tr>\n",
       "      <th>1</th>\n",
       "      <td>6.421</td>\n",
       "      <td>9.14</td>\n",
       "      <td>17.8</td>\n",
       "      <td>453600.0</td>\n",
       "    </tr>\n",
       "    <tr>\n",
       "      <th>2</th>\n",
       "      <td>7.185</td>\n",
       "      <td>4.03</td>\n",
       "      <td>17.8</td>\n",
       "      <td>728700.0</td>\n",
       "    </tr>\n",
       "    <tr>\n",
       "      <th>3</th>\n",
       "      <td>6.998</td>\n",
       "      <td>2.94</td>\n",
       "      <td>18.7</td>\n",
       "      <td>701400.0</td>\n",
       "    </tr>\n",
       "    <tr>\n",
       "      <th>4</th>\n",
       "      <td>7.147</td>\n",
       "      <td>5.33</td>\n",
       "      <td>18.7</td>\n",
       "      <td>760200.0</td>\n",
       "    </tr>\n",
       "  </tbody>\n",
       "</table>\n",
       "</div>"
      ],
      "text/plain": [
       "      RM  LSTAT  PTRATIO      MEDV\n",
       "0  6.575   4.98     15.3  504000.0\n",
       "1  6.421   9.14     17.8  453600.0\n",
       "2  7.185   4.03     17.8  728700.0\n",
       "3  6.998   2.94     18.7  701400.0\n",
       "4  7.147   5.33     18.7  760200.0"
      ]
     },
     "execution_count": 18,
     "metadata": {},
     "output_type": "execute_result"
    }
   ],
   "source": [
    "housing = pd.read_csv('data/housing.csv')\n",
    "print(housing.shape)\n",
    "housing.head()"
   ]
  },
  {
   "cell_type": "code",
   "execution_count": 19,
   "metadata": {},
   "outputs": [],
   "source": [
    "y = housing.MEDV.values\n",
    "X = housing.drop('MEDV',axis=1)"
   ]
  },
  {
   "cell_type": "code",
   "execution_count": 20,
   "metadata": {},
   "outputs": [],
   "source": [
    "from sklearn.model_selection import train_test_split\n",
    "def get_train_val(X,y):\n",
    "    X_train,X_val,y_train,y_val =  train_test_split(X, y, test_size=0.2, random_state=42)\n",
    "    return X_train.reset_index(drop=True),X_val.reset_index(drop=True),y_train,y_val"
   ]
  },
  {
   "cell_type": "code",
   "execution_count": 21,
   "metadata": {},
   "outputs": [],
   "source": [
    "X_train,X_val,y_train,y_val = get_train_val(X,y)"
   ]
  },
  {
   "cell_type": "markdown",
   "metadata": {},
   "source": [
    "### sklearn Random Forest"
   ]
  },
  {
   "cell_type": "code",
   "execution_count": 22,
   "metadata": {},
   "outputs": [
    {
     "data": {
      "text/plain": [
       "RandomForestRegressor(bootstrap=False, criterion='mse', max_depth=5,\n",
       "           max_features='auto', max_leaf_nodes=None,\n",
       "           min_impurity_decrease=0.0, min_impurity_split=None,\n",
       "           min_samples_leaf=5, min_samples_split=2,\n",
       "           min_weight_fraction_leaf=0.0, n_estimators=10, n_jobs=1,\n",
       "           oob_score=False, random_state=None, verbose=0, warm_start=False)"
      ]
     },
     "execution_count": 22,
     "metadata": {},
     "output_type": "execute_result"
    },
    {
     "name": "stdout",
     "output_type": "stream",
     "text": [
      "MSE train score: 3260533106.403395\n",
      "MSE val score: 3375622350.4114494\n",
      "R2 train score: 0.8849351905000116\n",
      "R2 val score: 0.8464062312034625\n"
     ]
    }
   ],
   "source": [
    "# rf = RandomForestRegressor(n_estimators=10,bootstrap=False,min_samples_leaf=10)\n",
    "rf = RandomForestRegressor(n_estimators=10,max_depth=5,bootstrap=False,min_samples_leaf=5)\n",
    "rf.fit(X_train,y_train)\n",
    "\n",
    "rf_train_pred = rf.predict(X_train)\n",
    "rf_val_pred = rf.predict(X_val)\n",
    "\n",
    "print(f'MSE train score: {metrics.mean_squared_error(y_train,rf_train_pred)}')\n",
    "print(f'MSE val score: {metrics.mean_squared_error(y_val,rf_val_pred)}')\n",
    "print(f'R2 train score: {metrics.r2_score(y_train,rf_train_pred)}')\n",
    "print(f'R2 val score: {metrics.r2_score(y_val,rf_val_pred)}')"
   ]
  },
  {
   "cell_type": "code",
   "execution_count": 23,
   "metadata": {},
   "outputs": [
    {
     "data": {
      "text/plain": [
       "<matplotlib.collections.PathCollection at 0x7fc1daea94a8>"
      ]
     },
     "execution_count": 23,
     "metadata": {},
     "output_type": "execute_result"
    },
    {
     "data": {
      "text/plain": [
       "<matplotlib.collections.PathCollection at 0x7fc1daea97f0>"
      ]
     },
     "execution_count": 23,
     "metadata": {},
     "output_type": "execute_result"
    },
    {
     "data": {
      "text/plain": [
       "<matplotlib.legend.Legend at 0x7fc1daea9828>"
      ]
     },
     "execution_count": 23,
     "metadata": {},
     "output_type": "execute_result"
    },
    {
     "data": {
      "image/png": "[encoded data removed]",
      "text/plain": [
       "<Figure size 432x288 with 1 Axes>"
      ]
     },
     "metadata": {},
     "output_type": "display_data"
    }
   ],
   "source": [
    "plt.scatter(range(0,len(y_val)),y_val,alpha=0.5,label='True')\n",
    "plt.scatter(range(0,len(rf_val_pred)),rf_val_pred,c='r',label='Pred')\n",
    "plt.legend()\n",
    "plt.show()"
   ]
  },
  {
   "cell_type": "markdown",
   "metadata": {},
   "source": [
    "## My Random Forest"
   ]
  },
  {
   "cell_type": "code",
   "execution_count": 24,
   "metadata": {},
   "outputs": [],
   "source": [
    "X_train,X_val,y_train,y_val = get_train_val(X,y)"
   ]
  },
  {
   "cell_type": "code",
   "execution_count": 25,
   "metadata": {},
   "outputs": [
    {
     "data": {
      "text/plain": [
       "391"
      ]
     },
     "execution_count": 25,
     "metadata": {},
     "output_type": "execute_result"
    }
   ],
   "source": [
    "X_train.shape[0]"
   ]
  },
  {
   "cell_type": "markdown",
   "metadata": {},
   "source": [
    "One possible thing I can tune here but not in sklearn Random Forest is the size of data subset for each tree (sample_sz)"
   ]
  },
  {
   "cell_type": "code",
   "execution_count": 26,
   "metadata": {},
   "outputs": [
    {
     "name": "stdout",
     "output_type": "stream",
     "text": [
      "CPU times: user 322 ms, sys: 0 ns, total: 322 ms\n",
      "Wall time: 322 ms\n"
     ]
    }
   ],
   "source": [
    "%%time\n",
    "tb = TreeBagging(X_train, y_train, n_trees=50, sample_sz=120,min_leaf=5)"
   ]
  },
  {
   "cell_type": "code",
   "execution_count": 27,
   "metadata": {},
   "outputs": [
    {
     "name": "stdout",
     "output_type": "stream",
     "text": [
      "MSE train score: 3372980847.6148586\n",
      "MSE val score: 3414049544.1749997\n",
      "R2 train score: 0.8809668891520539\n",
      "R2 val score: 0.8446577602841077\n"
     ]
    }
   ],
   "source": [
    "tb_train_pred = tb.predict(X_train)\n",
    "tb_val_pred = tb.predict(X_val)\n",
    "print(f'MSE train score: {metrics.mean_squared_error(y_train,tb_train_pred)}')\n",
    "print(f'MSE val score: {metrics.mean_squared_error(y_val,tb_val_pred)}')\n",
    "print(f'R2 train score: {metrics.r2_score(y_train,tb_train_pred)}')\n",
    "print(f'R2 val score: {metrics.r2_score(y_val,tb_val_pred)}')"
   ]
  },
  {
   "cell_type": "code",
   "execution_count": 28,
   "metadata": {},
   "outputs": [
    {
     "data": {
      "text/plain": [
       "<matplotlib.collections.PathCollection at 0x7fc1debed7f0>"
      ]
     },
     "execution_count": 28,
     "metadata": {},
     "output_type": "execute_result"
    },
    {
     "data": {
      "text/plain": [
       "<matplotlib.collections.PathCollection at 0x7fc1debed2b0>"
      ]
     },
     "execution_count": 28,
     "metadata": {},
     "output_type": "execute_result"
    },
    {
     "data": {
      "text/plain": [
       "<matplotlib.legend.Legend at 0x7fc1debed400>"
      ]
     },
     "execution_count": 28,
     "metadata": {},
     "output_type": "execute_result"
    },
    {
     "data": {
      "image/png": "[encoded data removed]",
      "text/plain": [
       "<Figure size 432x288 with 1 Axes>"
      ]
     },
     "metadata": {},
     "output_type": "display_data"
    }
   ],
   "source": [
    "plt.scatter(range(0,len(y_val)),y_val,alpha=0.5,label='True')\n",
    "plt.scatter(range(0,len(tb_val_pred)),tb_val_pred,c='r',label='Pred')\n",
    "plt.legend()\n",
    "plt.show()"
   ]
  },
  {
   "cell_type": "markdown",
   "metadata": {},
   "source": [
    "Able to draw a comparable result to sklearn Random Forest"
   ]
  },
  {
   "cell_type": "code",
   "execution_count": 29,
   "metadata": {},
   "outputs": [
    {
     "data": {
      "text/plain": [
       "count        98.000000\n",
       "mean      22198.563941\n",
       "std       26558.338376\n",
       "min          26.600000\n",
       "25%        5491.794512\n",
       "50%       12963.300000\n",
       "75%       25482.058209\n",
       "max      143747.800000\n",
       "dtype: float64"
      ]
     },
     "execution_count": 29,
     "metadata": {},
     "output_type": "execute_result"
    }
   ],
   "source": [
    "# Take a look at prediction differences b/t 2 models\n",
    "pd.Series(abs(rf_val_pred-tb_val_pred)).describe()"
   ]
  },
  {
   "cell_type": "markdown",
   "metadata": {},
   "source": [
    "# Calculate feature importance"
   ]
  },
  {
   "cell_type": "markdown",
   "metadata": {},
   "source": [
    "Feature importance will be calculated by using **permutation importance**. There is an argument which is mentioned in this [doc](http://parrt.cs.usfca.edu/doc/rf-importance/index.html#3) that feature importance calculated in sklearn is misleading. SKlearn used **mean decrease in impurity (gini improtance)**, which does not always give an accurate picture of importance. \n",
    "\n",
    "On the other hand, **permutation importance** is calculated as follows: Record a baseline accuracy (classifier) or R2 score (regressor) by passing a validation set or the out-of-bag (OOB) samples through the Random Forest. Permute the column values of a single predictor feature and then pass all test samples back through the Random Forest and recompute the accuracy or R2. The importance of that feature is the difference between the baseline and the drop in overall accuracy or R2 caused by permuting the column. This is more expensive to calculate, but results are more reliable"
   ]
  },
  {
   "cell_type": "code",
   "execution_count": 33,
   "metadata": {},
   "outputs": [],
   "source": [
    "def metric(rf,X_val,y_val):\n",
    "    y_val_pred = rf.predict(X_val)\n",
    "\n",
    "    return metrics.r2_score(y_val,y_val_pred)\n",
    "\n",
    "def permutation_importances(rf,X_val,y_val,metric):\n",
    "    baseline = metric(rf,X_val,y_val)\n",
    "    imp=[]\n",
    "    for col in X_val.columns:\n",
    "        save = X_val[col].copy()\n",
    "        X_val[col] = np.random.permutation(X_val[col])\n",
    "        m = metric(rf,X_val,y_val)\n",
    "        X_val[col] = save\n",
    "        imp.append(baseline-m)\n",
    "    return np.array(imp)"
   ]
  },
  {
   "cell_type": "markdown",
   "metadata": {},
   "source": [
    "## Feature importance from Sklearn's RF model\n"
   ]
  },
  {
   "cell_type": "code",
   "execution_count": 34,
   "metadata": {},
   "outputs": [
    {
     "data": {
      "text/plain": [
       "<matplotlib.axes._subplots.AxesSubplot at 0x7fc1deb7f6d8>"
      ]
     },
     "execution_count": 34,
     "metadata": {},
     "output_type": "execute_result"
    },
    {
     "data": {
      "image/png": "[encoded data removed]",
      "text/plain": [
       "<Figure size 1440x720 with 1 Axes>"
      ]
     },
     "metadata": {},
     "output_type": "display_data"
    }
   ],
   "source": [
    "\n",
    "fea_imp = permutation_importances(rf,X_val,y_val,metric)\n",
    "fea_imp_df = pd.DataFrame(data={'Feature':X_val.columns,'Importance':fea_imp})\n",
    "fea_imp_df = fea_imp_df.set_index('Feature')\n",
    "fea_imp_df = fea_imp_df.sort_values('Importance', ascending=True)\n",
    "fea_imp_df.plot(kind='barh',figsize=(20,10))"
   ]
  },
  {
   "cell_type": "markdown",
   "metadata": {},
   "source": [
    "## Feature importance from 'scratch' RF"
   ]
  },
  {
   "cell_type": "code",
   "execution_count": 35,
   "metadata": {},
   "outputs": [
    {
     "data": {
      "text/plain": [
       "<matplotlib.axes._subplots.AxesSubplot at 0x7fc1deb672b0>"
      ]
     },
     "execution_count": 35,
     "metadata": {},
     "output_type": "execute_result"
    },
    {
     "data": {
      "image/png": "[encoded data removed]",
      "text/plain": [
       "<Figure size 1440x720 with 1 Axes>"
      ]
     },
     "metadata": {},
     "output_type": "display_data"
    }
   ],
   "source": [
    "fea_imp = permutation_importances(tb,X_val,y_val,metric)\n",
    "fea_imp_df = pd.DataFrame(data={'Feature':X_val.columns,'Importance':fea_imp})\n",
    "fea_imp_df = fea_imp_df.set_index('Feature')\n",
    "fea_imp_df = fea_imp_df.sort_values('Importance', ascending=True)\n",
    "fea_imp_df.plot(kind='barh',figsize=(20,10))"
   ]
  }
 ],
 "metadata": {
  "kernelspec": {
   "display_name": "Python 3",
   "language": "python",
   "name": "python3"
  },
  "language_info": {
   "codemirror_mode": {
    "name": "ipython",
    "version": 3
   },
   "file_extension": ".py",
   "mimetype": "text/x-python",
   "name": "python",
   "nbconvert_exporter": "python",
   "pygments_lexer": "ipython3",
   "version": "3.6.5"
  }
 },
 "nbformat": 4,
 "nbformat_minor": 2
}
